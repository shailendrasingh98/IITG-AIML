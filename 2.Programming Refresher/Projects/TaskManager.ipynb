{
 "cells": [
  {
   "cell_type": "markdown",
   "id": "27e5da1b-9421-41ba-a872-cfe8c7b7fdb2",
   "metadata": {},
   "source": [
    "# Task Manager"
   ]
  },
  {
   "cell_type": "markdown",
   "id": "48b6629b-87bd-4324-a243-9850f132f8cd",
   "metadata": {},
   "source": [
    "- Task manager stores user information in the users.json file to operate for accessing users and updating users fast.\n",
    "  ` {\"1\": {\"User Name\": 'user1', \"Password\": '<string hashed password>'},}`\n",
    "- It also tasks in separate tasks.json file. format like {user_id: {task_id: {task data}}}\n",
    "  `{\"1\": {\"1\": {\"Task Id\": '1', \"status\": 'pending', \"Description\": 'Task1 by user 1'},},}`"
   ]
  },
  {
   "cell_type": "code",
   "execution_count": 267,
   "id": "14ed9783-d019-4fb7-b9c1-e1e66fb54cbb",
   "metadata": {},
   "outputs": [],
   "source": [
    "# package for password hashing\n",
    "import bcrypt\n",
    "import base64\n",
    "\n",
    "# json file handler package\n",
    "import json\n"
   ]
  },
  {
   "cell_type": "markdown",
   "id": "834e5e0d-1ed6-4853-a722-28647fb98ea9",
   "metadata": {},
   "source": [
    "### Utility Functions.\n",
    "- Read and write functionality for json file.\n",
    "- json files going to store user data and task data"
   ]
  },
  {
   "cell_type": "code",
   "execution_count": 269,
   "id": "225242d9-4470-49f3-9155-070bb74e8956",
   "metadata": {},
   "outputs": [],
   "source": [
    "\n",
    "# Function to write user information to a JSON file\n",
    "def write_to_json(filename, data):\n",
    "    try:\n",
    "        with open(filename, 'w') as file:\n",
    "            json.dump(data, file, indent=4) \n",
    "        print(f\"Data has been written to {filename}\")\n",
    "    except Exception as e:\n",
    "        print(f\"An error occurred while writing to the file: {e}\")\n",
    "\n",
    "# Function to read user information from a JSON file\n",
    "def read_from_json(filename):\n",
    "    try:\n",
    "        with open(filename, 'r') as file:\n",
    "            data = json.load(file)  # Read data from JSON file\n",
    "        return data\n",
    "    except FileNotFoundError:\n",
    "        # If there is no existing file  return empty dict so that it can be handled while writing.\n",
    "        return {}\n",
    "    except json.JSONDecodeError:\n",
    "        print(\"Error decoding JSON. The file might be corrupted.\")\n",
    "        return []\n",
    "    except Exception as e:\n",
    "        print(f\"An error occurred while reading the file: {e}\")\n",
    "        return {}"
   ]
  },
  {
   "cell_type": "code",
   "execution_count": 272,
   "id": "2a07efb3-4567-440e-a8ca-fad45140aa26",
   "metadata": {},
   "outputs": [],
   "source": [
    "# Utility function to display tasks header in table format\n",
    "def print_header(columns):\n",
    "    \"\"\"\n",
    "    The utility function to print table header in a nice format.\n",
    "    --------------------------------------------------------------------------------\n",
    "    Task ID            Status        Description     \n",
    "    --------------------------------------------------------------------------------\n",
    "    \"\"\"\n",
    "    \n",
    "    headers = \"{:<10} {:<15} {:>10}\".format(*columns)\n",
    "    print(\"-\" * 80)\n",
    "    print(headers)\n",
    "    print(\"-\" * 80)"
   ]
  },
  {
   "cell_type": "markdown",
   "id": "d3d52c81-841e-4d20-8186-7a236ba77c10",
   "metadata": {},
   "source": [
    "### User Name and Password Management\n",
    "- Create hash of plain password using salt\n",
    "- varify password for user login\n",
    "- convert byte to str and vice versa for storing the password in json file."
   ]
  },
  {
   "cell_type": "code",
   "execution_count": 276,
   "id": "af40cb78-93d0-4df8-ab85-6bcc9f1c99d1",
   "metadata": {},
   "outputs": [],
   "source": [
    "# Password management\n",
    "\n",
    "# Hash password before storing to file\n",
    "def hash_password(password: str) -> str:\n",
    "    # Generate a salt\n",
    "    salt = bcrypt.gensalt()\n",
    "    \n",
    "    # Hash the password with the salt\n",
    "    hashed_password = bcrypt.hashpw(password.encode('utf-8'), salt)\n",
    "    \n",
    "    return hashed_password\n",
    "\n",
    "def verify_password(stored_hash: str, password: str) -> bool:\n",
    "    # Check if the password matches the stored hash\n",
    "    return bcrypt.checkpw(password.encode('utf-8'), stored_hash)\n",
    "\n",
    "# Function to convert bytes to a base64 encoded string\n",
    "def bytes_to_str(byte_data):\n",
    "    return base64.b64encode(byte_data).decode('utf-8')\n",
    "\n",
    "# Function to convert a base64 encoded string back to bytes\n",
    "def str_to_bytes(encoded_str):\n",
    "    return base64.b64decode(encoded_str.encode('utf-8'))\n"
   ]
  },
  {
   "cell_type": "code",
   "execution_count": 254,
   "id": "c3754c3e-4872-4bd9-9ca4-5e13d789a045",
   "metadata": {},
   "outputs": [],
   "source": [
    "# User related functions\n",
    "def update_user(filename, data):\n",
    "    json = read_from_json(filename)\n",
    "    idx = 0 if not json else len(json)\n",
    "\n",
    "    json[str(idx+1)] = data\n",
    "    write_to_json(filename, json)\n",
    "    print('User is saved')\n",
    "    return idx+1\n",
    "\n",
    "def save_user(user_name, password):\n",
    "    password = hash_password(password)\n",
    "    return update_user('users.json', {\"User Name\": user_name, \"Password\": bytes_to_str(password)})\n",
    "    \n",
    "def get_existing_usernames():\n",
    "    user_names = set()\n",
    "    data = read_from_json('users.json')\n",
    "    if not data: return user_names\n",
    "    for idx, user in data.items():\n",
    "        user_names.add(user[\"User Name\"])\n",
    "    return user_names\n",
    "    \n",
    "def verify_user(user_name, password):\n",
    "    user_data = read_from_json('users.json')\n",
    "    if not user_data: return\n",
    "    for user_id, user in user_data.items():\n",
    "        if user_name != user[\"User Name\"]:continue\n",
    "        password_hash = str_to_bytes(user[\"Password\"])\n",
    "        if verify_password(password_hash, password): return user_id\n",
    "    return \n",
    "\n"
   ]
  },
  {
   "cell_type": "markdown",
   "id": "e6be712e-b4a7-4f33-8970-e8b27c24b120",
   "metadata": {},
   "source": [
    "### User Registration and login functionalty\n",
    "- Register user\n",
    "- login user\n",
    "- logout user"
   ]
  },
  {
   "cell_type": "code",
   "execution_count": null,
   "id": "1ac48d3c-04b4-4400-badf-48ba859e6ae2",
   "metadata": {},
   "outputs": [],
   "source": [
    "\n",
    "# Register user\n",
    "def registration():\n",
    "    print(\"===================user registration =============\")\n",
    "    existing_user_names = ()\n",
    "    while True:\n",
    "        user_name = input(\"Please enter user name: \")\n",
    "        if user_name not in get_existing_usernames(): break\n",
    "        print(f\"Username -'{user_name}' already exist, Choose different username\")\n",
    "    password = input(\"Please enter user password: \")\n",
    "    if not password:\n",
    "        print('Please enter password!')\n",
    "    \n",
    "    if user_name and password:\n",
    "        user_id = save_user(user_name, password)\n",
    "        print(f\"You have created account successfully. Please use username-{user_name} to login\")\n",
    "        return user_id\n",
    "    return \n",
    "\n",
    "def login():\n",
    "    user_name = input(\"Please enter user name: \")\n",
    "    password = input(\"Please enter user password: \")\n",
    "    user_id = verify_user(user_name, password)\n",
    "    if user_id:\n",
    "        print(\" Logged in\")\n",
    "        return user_id\n",
    "    \n",
    "    print('Username or password is incorrect!')\n",
    "    return \n",
    "\n",
    "def logout():\n",
    "    print(\"You have logged out successfully.\")"
   ]
  },
  {
   "cell_type": "markdown",
   "id": "1ccd3f97-b79c-47f9-84eb-59933e737d45",
   "metadata": {},
   "source": [
    "### Task management\n",
    "- Add Task\n",
    "- Delete Task\n",
    "- Mark as Completed Task\n",
    "- View Taks"
   ]
  },
  {
   "cell_type": "code",
   "execution_count": 257,
   "id": "3f7a503a-f8fd-4fa4-b903-f2e7c1838ba0",
   "metadata": {},
   "outputs": [],
   "source": [
    "# Task management functionality\n",
    "def update_task(filename, user_id, data):\n",
    "    json = read_from_json(filename)\n",
    "    if not json:\n",
    "        json = {user_id: {}}\n",
    "    if json and not json.get(user_id):\n",
    "        json[user_id]= {}\n",
    "        \n",
    "    idx= len(json[user_id])\n",
    "    data[\"Task Id\"] = str(idx+1)\n",
    "    json[user_id][str(idx+1)] = data\n",
    "    write_to_json(filename, json)\n",
    "    print(\"Task is added.\")\n",
    "\n",
    "def add_task(user_id):\n",
    "    description = input(\"Enter the Task description:\")\n",
    "    task = {\"Status\": 'pending', \"Description\": description}\n",
    "    update_task('tasks.json', user_id, task)\n",
    "\n",
    "def delete_task(user_id, task_id):\n",
    "    json = read_from_json('tasks.json')\n",
    "    if not json.get(user_id) or not json[user_id].get(task_id):\n",
    "        print(\"======> No Task with this Id. Ignoring..\")\n",
    "        return\n",
    "\n",
    "    # delete the task with task id\n",
    "    del json[user_id][task_id]\n",
    "    write_to_json('tasks.json', json)\n",
    "    print(\"Task is deleted.\")\n",
    "\n",
    "def view_tasks(user_id):\n",
    "    json = read_from_json('tasks.json')\n",
    "    if not json or not json.get(user_id): \n",
    "        print(\"======> No Task created!\")\n",
    "        return\n",
    "    tasks = json[user_id]\n",
    "    print_header([\"Task ID\", \"Status\", \"Description\"])\n",
    "    for _, task in tasks.items():\n",
    "        print(\"{:<10} {:<15} {:>10} \".format(\n",
    "                task['Task Id'], \n",
    "                task['Status'], \n",
    "                task['Description'])\n",
    "                 )\n",
    "        \n",
    "def mark_completed(user_id, task_id):\n",
    "    json = read_from_json('tasks.json')\n",
    "    if not json.get(user_id) or not json[user_id].get(task_id):\n",
    "        print(\"======> No Task with this Id. Ignoring..\")\n",
    "        return\n",
    "    json[user_id][task_id]['Status'] = 'Completed'\n",
    "    write_to_json('tasks.json', json)\n",
    "    print(\"Task is marked completed.\")\n",
    "    "
   ]
  },
  {
   "cell_type": "markdown",
   "id": "211a8a3e-8a0e-4a37-829f-b2dbcc688ed9",
   "metadata": {},
   "source": [
    "### Main Menu function or Entry Point\n",
    "- Display nice header for application.\n",
    "- Ask user to log in.\n",
    "- if user is not registered, Ask user to register.\n",
    "- once logged in, Display options to choose to proceed ahead."
   ]
  },
  {
   "cell_type": "code",
   "execution_count": 259,
   "id": "bdbd67b2-090d-4ed6-abc4-d4376ff0e26e",
   "metadata": {},
   "outputs": [],
   "source": [
    "# utility function to print a nice header for Task manager application.\n",
    "def banner():\n",
    "    nl = '\\n'\n",
    "    header = '='*80\n",
    "    banner = header + nl+ '|' + 'TASK MANAGER'.center(78) + '|' + nl + header\n",
    "    print()\n",
    "    print(banner)\n",
    "\n",
    "# menu function to list down all the options. \n",
    "# User can choose any option to perform actions.\n",
    "def menu():\n",
    "    banner()\n",
    "    # User to log in\n",
    "    user_id = login()\n",
    "    while not user_id:\n",
    "        create_account = input(\" Do you want to create account, type (y/n):\")\n",
    "        if create_account.lower() =='y':\n",
    "            user_id = registration()\n",
    "        else:\n",
    "            user_id = login()\n",
    "    \n",
    "    # It will show the menu option until the user exits.\n",
    "    while True:\n",
    "        print()\n",
    "        print(\"1. Add Task\")\n",
    "        print(\"2. View Tasks\")\n",
    "        print(\"3. Mark as Completed\")\n",
    "        print(\"4. Delete Task\")\n",
    "        print(\"5. Logout\")\n",
    "\n",
    "        choice = input(\"Enter your choice: \")\n",
    "\n",
    "        if choice == '1':\n",
    "            add_task(user_id)\n",
    "        elif choice == '2':\n",
    "            view_tasks(user_id)\n",
    "        elif choice == '3':\n",
    "            task_id = input(\"Please enter Task Id to mark 'Completed': \")\n",
    "            mark_completed(user_id, task_id)\n",
    "        elif choice == '4':\n",
    "            task_id = input(\"Please enter Task Id to delete: \")\n",
    "            delete_task(user_id, task_id)\n",
    "        elif choice == '5':\n",
    "            logout()\n",
    "            print(\"Exiting...\")\n",
    "            break\n",
    "        else:\n",
    "            print(\"Invalid choice. Please try again.\")"
   ]
  },
  {
   "cell_type": "code",
   "execution_count": 261,
   "id": "150c0594-bec4-4ed1-875d-7bfef32e5291",
   "metadata": {},
   "outputs": [
    {
     "name": "stdout",
     "output_type": "stream",
     "text": [
      "\n",
      "================================================================================\n",
      "|                                 TASK MANAGER                                 |\n",
      "================================================================================\n"
     ]
    },
    {
     "name": "stdin",
     "output_type": "stream",
     "text": [
      "Please enter user name:  shailu\n",
      "Please enter user password:  admin\n"
     ]
    },
    {
     "name": "stdout",
     "output_type": "stream",
     "text": [
      " Logged in\n",
      "\n",
      "1. Add Task\n",
      "2. View Tasks\n",
      "3. Mark as Completed\n",
      "4. Delete Task\n",
      "5. Logout\n"
     ]
    },
    {
     "name": "stdin",
     "output_type": "stream",
     "text": [
      "Enter your choice:  2\n"
     ]
    },
    {
     "name": "stdout",
     "output_type": "stream",
     "text": [
      "--------------------------------------------------------------------------------\n",
      "Task ID    Status          Description\n",
      "--------------------------------------------------------------------------------\n",
      "1          pending         Task1 by user 1 \n",
      "\n",
      "1. Add Task\n",
      "2. View Tasks\n",
      "3. Mark as Completed\n",
      "4. Delete Task\n",
      "5. Logout\n"
     ]
    },
    {
     "name": "stdin",
     "output_type": "stream",
     "text": [
      "Enter your choice:  5\n"
     ]
    },
    {
     "name": "stdout",
     "output_type": "stream",
     "text": [
      "You have logged out successfully.\n",
      "Exiting...\n"
     ]
    }
   ],
   "source": [
    "menu()"
   ]
  },
  {
   "cell_type": "code",
   "execution_count": 263,
   "id": "4ccd17fb-8694-451b-a3b4-e92e30034e98",
   "metadata": {},
   "outputs": [
    {
     "name": "stdout",
     "output_type": "stream",
     "text": [
      "\n",
      "================================================================================\n",
      "|                                 TASK MANAGER                                 |\n",
      "================================================================================\n"
     ]
    },
    {
     "name": "stdin",
     "output_type": "stream",
     "text": [
      "Please enter user name:  shailu2\n",
      "Please enter user password:  admin2\n"
     ]
    },
    {
     "name": "stdout",
     "output_type": "stream",
     "text": [
      " Logged in\n",
      "\n",
      "1. Add Task\n",
      "2. View Tasks\n",
      "3. Mark as Completed\n",
      "4. Delete Task\n",
      "5. Logout\n"
     ]
    },
    {
     "name": "stdin",
     "output_type": "stream",
     "text": [
      "Enter your choice:  2\n"
     ]
    },
    {
     "name": "stdout",
     "output_type": "stream",
     "text": [
      "======> No Task created!\n",
      "\n",
      "1. Add Task\n",
      "2. View Tasks\n",
      "3. Mark as Completed\n",
      "4. Delete Task\n",
      "5. Logout\n"
     ]
    },
    {
     "name": "stdin",
     "output_type": "stream",
     "text": [
      "Enter your choice:  1\n",
      "Enter the Task description: Task by user 2\n"
     ]
    },
    {
     "name": "stdout",
     "output_type": "stream",
     "text": [
      "Data has been written to tasks.json\n",
      "Task is added.\n",
      "\n",
      "1. Add Task\n",
      "2. View Tasks\n",
      "3. Mark as Completed\n",
      "4. Delete Task\n",
      "5. Logout\n"
     ]
    },
    {
     "name": "stdin",
     "output_type": "stream",
     "text": [
      "Enter your choice:  2\n"
     ]
    },
    {
     "name": "stdout",
     "output_type": "stream",
     "text": [
      "--------------------------------------------------------------------------------\n",
      "Task ID    Status          Description\n",
      "--------------------------------------------------------------------------------\n",
      "1          pending         Task by user 2 \n",
      "\n",
      "1. Add Task\n",
      "2. View Tasks\n",
      "3. Mark as Completed\n",
      "4. Delete Task\n",
      "5. Logout\n"
     ]
    },
    {
     "name": "stdin",
     "output_type": "stream",
     "text": [
      "Enter your choice:  1\n",
      "Enter the Task description: Second task by user2\n"
     ]
    },
    {
     "name": "stdout",
     "output_type": "stream",
     "text": [
      "Data has been written to tasks.json\n",
      "Task is added.\n",
      "\n",
      "1. Add Task\n",
      "2. View Tasks\n",
      "3. Mark as Completed\n",
      "4. Delete Task\n",
      "5. Logout\n"
     ]
    },
    {
     "name": "stdin",
     "output_type": "stream",
     "text": [
      "Enter your choice:  3\n",
      "Please enter Task Id to mark 'Completed':  1\n"
     ]
    },
    {
     "name": "stdout",
     "output_type": "stream",
     "text": [
      "Data has been written to tasks.json\n",
      "Task is marked completed.\n",
      "\n",
      "1. Add Task\n",
      "2. View Tasks\n",
      "3. Mark as Completed\n",
      "4. Delete Task\n",
      "5. Logout\n"
     ]
    },
    {
     "name": "stdin",
     "output_type": "stream",
     "text": [
      "Enter your choice:  2\n"
     ]
    },
    {
     "name": "stdout",
     "output_type": "stream",
     "text": [
      "--------------------------------------------------------------------------------\n",
      "Task ID    Status          Description\n",
      "--------------------------------------------------------------------------------\n",
      "1          Completed       Task by user 2 \n",
      "2          pending         Second task by user2 \n",
      "\n",
      "1. Add Task\n",
      "2. View Tasks\n",
      "3. Mark as Completed\n",
      "4. Delete Task\n",
      "5. Logout\n"
     ]
    },
    {
     "name": "stdin",
     "output_type": "stream",
     "text": [
      "Enter your choice:  5\n"
     ]
    },
    {
     "name": "stdout",
     "output_type": "stream",
     "text": [
      "You have logged out successfully.\n",
      "Exiting...\n"
     ]
    }
   ],
   "source": [
    "menu()"
   ]
  },
  {
   "cell_type": "code",
   "execution_count": 265,
   "id": "8e4b8da7-a76e-4b52-b4f1-fba1090f8008",
   "metadata": {},
   "outputs": [
    {
     "name": "stdout",
     "output_type": "stream",
     "text": [
      "\n",
      "================================================================================\n",
      "|                                 TASK MANAGER                                 |\n",
      "================================================================================\n"
     ]
    },
    {
     "name": "stdin",
     "output_type": "stream",
     "text": [
      "Please enter user name:  shailu3\n",
      "Please enter user password:  admin3\n"
     ]
    },
    {
     "name": "stdout",
     "output_type": "stream",
     "text": [
      "Username or password is incorrect!\n"
     ]
    },
    {
     "name": "stdin",
     "output_type": "stream",
     "text": [
      " Do you want to create account, type (y/n): y\n"
     ]
    },
    {
     "name": "stdout",
     "output_type": "stream",
     "text": [
      "===================user registration =============\n"
     ]
    },
    {
     "name": "stdin",
     "output_type": "stream",
     "text": [
      "Please enter user name:  shailu\n"
     ]
    },
    {
     "name": "stdout",
     "output_type": "stream",
     "text": [
      "Username -'shailu' already exist, Choose different username\n"
     ]
    },
    {
     "name": "stdin",
     "output_type": "stream",
     "text": [
      "Please enter user name:  shailu3\n",
      "Please enter user password:  admin3\n"
     ]
    },
    {
     "name": "stdout",
     "output_type": "stream",
     "text": [
      "Data has been written to users.json\n",
      "User is saved\n",
      "You have created account successfully. Please use username-shailu3 to login\n",
      "\n",
      "1. Add Task\n",
      "2. View Tasks\n",
      "3. Mark as Completed\n",
      "4. Delete Task\n",
      "5. Logout\n"
     ]
    },
    {
     "name": "stdin",
     "output_type": "stream",
     "text": [
      "Enter your choice:  2\n"
     ]
    },
    {
     "name": "stdout",
     "output_type": "stream",
     "text": [
      "======> No Task created!\n",
      "\n",
      "1. Add Task\n",
      "2. View Tasks\n",
      "3. Mark as Completed\n",
      "4. Delete Task\n",
      "5. Logout\n"
     ]
    },
    {
     "name": "stdin",
     "output_type": "stream",
     "text": [
      "Enter your choice:  3\n",
      "Please enter Task Id to mark 'Completed':  1\n"
     ]
    },
    {
     "name": "stdout",
     "output_type": "stream",
     "text": [
      "======> No Task with this Id. Ignoring..\n",
      "\n",
      "1. Add Task\n",
      "2. View Tasks\n",
      "3. Mark as Completed\n",
      "4. Delete Task\n",
      "5. Logout\n"
     ]
    },
    {
     "name": "stdin",
     "output_type": "stream",
     "text": [
      "Enter your choice:  5\n"
     ]
    },
    {
     "name": "stdout",
     "output_type": "stream",
     "text": [
      "You have logged out successfully.\n",
      "Exiting...\n"
     ]
    }
   ],
   "source": [
    "menu()"
   ]
  },
  {
   "cell_type": "code",
   "execution_count": null,
   "id": "c5cf78d7-3243-4e41-8580-ac438673d188",
   "metadata": {},
   "outputs": [],
   "source": []
  }
 ],
 "metadata": {
  "kernelspec": {
   "display_name": "Python [conda env:base] *",
   "language": "python",
   "name": "conda-base-py"
  },
  "language_info": {
   "codemirror_mode": {
    "name": "ipython",
    "version": 3
   },
   "file_extension": ".py",
   "mimetype": "text/x-python",
   "name": "python",
   "nbconvert_exporter": "python",
   "pygments_lexer": "ipython3",
   "version": "3.12.7"
  }
 },
 "nbformat": 4,
 "nbformat_minor": 5
}
