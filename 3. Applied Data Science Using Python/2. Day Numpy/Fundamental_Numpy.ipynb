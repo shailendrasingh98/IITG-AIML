{
 "cells": [
  {
   "cell_type": "markdown",
   "id": "8372f74a-4558-4d10-8327-a2f8c1206654",
   "metadata": {},
   "source": [
    "# Numpy Fundamentals"
   ]
  },
  {
   "cell_type": "markdown",
   "id": "2fea8533-0a4e-4119-a595-66c109f3dcc2",
   "metadata": {},
   "source": [
    "### NumPy shines when there are large quantities of “homogeneous” (same-type) data to be processed on the CPU."
   ]
  },
  {
   "cell_type": "code",
   "execution_count": 2,
   "id": "9af08217-1cff-43a9-ba74-9eca926e9c2d",
   "metadata": {},
   "outputs": [],
   "source": [
    "import numpy as np"
   ]
  },
  {
   "cell_type": "markdown",
   "id": "3c3b589e-bd5b-408a-90af-d11202a6c24e",
   "metadata": {},
   "source": [
    "#### Most NumPy arrays have some restrictions. For instance:\n",
    "\n",
    "- All elements of the array must be of the same type of data.\n",
    "\n",
    "- Once created, the total size of the array can’t change.\n",
    "\n",
    "- The shape must be “rectangular”, not “jagged”; e.g., each row of a two-dimensional array must have the same number of columns."
   ]
  },
  {
   "cell_type": "code",
   "execution_count": 3,
   "id": "7efa2e8e-baaf-4d57-be87-f206f920b088",
   "metadata": {},
   "outputs": [
    {
     "name": "stdout",
     "output_type": "stream",
     "text": [
      "[1 2 3 4 5 6]\n",
      "int64\n"
     ]
    }
   ],
   "source": [
    "a = np.array([1, 2, 3, 4, 5, 6])\n",
    "print(a)\n",
    "print(a.dtype)"
   ]
  },
  {
   "cell_type": "code",
   "execution_count": 4,
   "id": "13fc3555-1034-409a-94f7-01eb2fe3bc51",
   "metadata": {},
   "outputs": [
    {
     "name": "stderr",
     "output_type": "stream",
     "text": [
      "/tmp/ipykernel_72/1819400931.py:1: VisibleDeprecationWarning: Creating an ndarray from ragged nested sequences (which is a list-or-tuple of lists-or-tuples-or ndarrays with different lengths or shapes) is deprecated. If you meant to do this, you must specify 'dtype=object' when creating the ndarray.\n",
      "  np.array([1, 2, 3, 4, 5,'string', (1,3), 2.3])\n"
     ]
    },
    {
     "data": {
      "text/plain": [
       "array([1, 2, 3, 4, 5, 'string', (1, 3), 2.3], dtype=object)"
      ]
     },
     "execution_count": 4,
     "metadata": {},
     "output_type": "execute_result"
    }
   ],
   "source": [
    "np.array([1, 2, 3, 4, 5,'string', (1,3), 2.3])"
   ]
  },
  {
   "cell_type": "code",
   "execution_count": 5,
   "id": "3841ce5f-be53-4f03-8e53-da6ec5586d4c",
   "metadata": {},
   "outputs": [
    {
     "data": {
      "text/plain": [
       "array([[1, 2, 3],\n",
       "       [4, 5, 6]])"
      ]
     },
     "execution_count": 5,
     "metadata": {},
     "output_type": "execute_result"
    }
   ],
   "source": [
    "np.array([[1,2,3],[4,5,6]])"
   ]
  },
  {
   "cell_type": "code",
   "execution_count": 6,
   "id": "76f76b2a-32e2-434b-9033-d37b300e4a8d",
   "metadata": {},
   "outputs": [
    {
     "name": "stderr",
     "output_type": "stream",
     "text": [
      "/tmp/ipykernel_72/4191096310.py:1: VisibleDeprecationWarning: Creating an ndarray from ragged nested sequences (which is a list-or-tuple of lists-or-tuples-or ndarrays with different lengths or shapes) is deprecated. If you meant to do this, you must specify 'dtype=object' when creating the ndarray.\n",
      "  np.array([[1,2,3],[4,5]])\n"
     ]
    },
    {
     "data": {
      "text/plain": [
       "array([list([1, 2, 3]), list([4, 5])], dtype=object)"
      ]
     },
     "execution_count": 6,
     "metadata": {},
     "output_type": "execute_result"
    }
   ],
   "source": [
    "np.array([[1,2,3],[4,5]])"
   ]
  },
  {
   "cell_type": "code",
   "execution_count": 8,
   "id": "92ee27d0-404c-452d-889a-75ba15de009c",
   "metadata": {},
   "outputs": [
    {
     "name": "stdout",
     "output_type": "stream",
     "text": [
      "1\n",
      "[3 4 5 6]\n",
      "[3 4 5]\n"
     ]
    }
   ],
   "source": [
    "# access the element of array\n",
    "print(a[0])\n",
    "print(a[2:])\n",
    "print(a[2:5])"
   ]
  },
  {
   "cell_type": "code",
   "execution_count": 9,
   "id": "4654e6c5-c0bb-4e59-90f6-991478f8b1b8",
   "metadata": {},
   "outputs": [
    {
     "name": "stdout",
     "output_type": "stream",
     "text": [
      "Original Array: [1 2 3 4 5 6]\n",
      "New Array: [10  2  3  4  5  6]\n"
     ]
    }
   ],
   "source": [
    "# The array is mutable.\n",
    "print(f\"Original Array: {a}\")\n",
    "# Assign oth element to 10\n",
    "a[0]=10\n",
    "print(f\"New Array: {a}\")"
   ]
  },
  {
   "cell_type": "code",
   "execution_count": 10,
   "id": "1de4515f-c54f-4169-8da0-d69defe29d49",
   "metadata": {},
   "outputs": [
    {
     "name": "stdout",
     "output_type": "stream",
     "text": [
      "Copy the elements from 4th index in the b array\n",
      "[4 5 6]\n",
      "Now update the 0th element of b array, It will also update the original a array\n",
      "[10  2  3 40  5  6]\n"
     ]
    }
   ],
   "source": [
    "# One major difference is that slice indexing of a list copies the elements into a new list, \n",
    "# but slicing an array returns a view: an object that refers to the data in the original array. \n",
    "# The original array can be mutated using the view.\n",
    "print(\"Copy the elements from 4th index in the b array\")\n",
    "b = a[3:]\n",
    "print(b)\n",
    "print(\"Now update the 0th element of b array, It will also update the original a array\")\n",
    "b[0] = 40\n",
    "print(a)"
   ]
  },
  {
   "cell_type": "code",
   "execution_count": 12,
   "id": "c2889e90-1571-4b80-854f-c40692ecb43d",
   "metadata": {},
   "outputs": [
    {
     "name": "stdout",
     "output_type": "stream",
     "text": [
      "[[ 1  2  3  4]\n",
      " [ 5  6  7  8]\n",
      " [ 9 10 11 12]]\n"
     ]
    }
   ],
   "source": [
    "# 2D Array creation\n",
    "# In NumPy, a dimension of an array is sometimes referred to as an “axis”. \n",
    "\n",
    "a = np.array([[1, 2, 3, 4], [5, 6, 7, 8], [9, 10, 11, 12]])\n",
    "print(a)"
   ]
  },
  {
   "cell_type": "code",
   "execution_count": 13,
   "id": "a5e372e7-ab01-4258-ba2f-184351a7ad48",
   "metadata": {},
   "outputs": [
    {
     "name": "stdout",
     "output_type": "stream",
     "text": [
      "8\n"
     ]
    }
   ],
   "source": [
    "# Another difference between an array and a list of lists is that an element of the array can be accessed \n",
    "# by specifying the index along each axis within a single set of square brackets, separated by commas. \n",
    "# For instance, the element 8 is in row 1 and column 3\n",
    "print(a[1,3])"
   ]
  },
  {
   "cell_type": "code",
   "execution_count": 17,
   "id": "2686f3d2-9f60-4ec1-aff8-060039c54b9e",
   "metadata": {},
   "outputs": [
    {
     "name": "stdout",
     "output_type": "stream",
     "text": [
      "1. Create an array filled in with zeros\n",
      "[0. 0. 0. 0. 0. 0. 0. 0. 0. 0.]\n",
      "2. Create an array filled in with ones\n",
      "[1. 1. 1. 1. 1. 1. 1. 1. 1. 1.]\n"
     ]
    }
   ],
   "source": [
    "# Create array using the built in functions:\n",
    "print(\"1. Create an array filled in with zeros\")\n",
    "print(np.zeros(10))\n",
    "print(\"2. Create an array filled in with ones\")\n",
    "print(np.ones(10))"
   ]
  },
  {
   "cell_type": "code",
   "execution_count": 18,
   "id": "8eb2314f-9a04-4e28-9c3c-3bbcecbf0690",
   "metadata": {},
   "outputs": [
    {
     "name": "stdout",
     "output_type": "stream",
     "text": [
      "[1. 1. 1. 1. 1. 1. 1. 1. 1. 1.]\n"
     ]
    }
   ],
   "source": [
    "# The function `empty` creates an array whose initial content is random and depends on the state of the memory. \n",
    "# The reason to use empty over zeros (or something similar) is speed - just make sure to fill every element afterwards!\n",
    "print(np.empty(10))"
   ]
  },
  {
   "cell_type": "code",
   "execution_count": 28,
   "id": "d41278ea-7130-4cf5-986f-dbe45537f1af",
   "metadata": {},
   "outputs": [
    {
     "name": "stdout",
     "output_type": "stream",
     "text": [
      "[0 1 2 3 4 5 6 7 8 9]\n",
      "[2 4 6 8]\n"
     ]
    }
   ],
   "source": [
    "# You can create an array with a range of elements:\n",
    "\n",
    "print(np.arange(10))\n",
    "\n",
    "# And even an array that contains a range of evenly spaced intervals. \n",
    "# To do this, you will specify the first number, last number, and the step size.\n",
    "\n",
    "print(np.arange(2, 9, 2))\n"
   ]
  },
  {
   "cell_type": "code",
   "execution_count": 24,
   "id": "b23c21d9-8678-465f-8ca6-6e8a5a1b8d61",
   "metadata": {},
   "outputs": [
    {
     "name": "stdout",
     "output_type": "stream",
     "text": [
      "Create five numbsers array, evenly spaces between the 0 to 10\n",
      "[ 0.   2.5  5.   7.5 10. ]\n"
     ]
    }
   ],
   "source": [
    "# Create an array with values that are spaced linearly in a specified interval:\n",
    "print('Create five numbsers array, evenly spaces between the 0 to 10')\n",
    "print(np.linspace(0, 10, num=5))\n"
   ]
  },
  {
   "cell_type": "code",
   "execution_count": 27,
   "id": "debc56a5-166c-42ad-9678-2238ab332b0f",
   "metadata": {},
   "outputs": [
    {
     "name": "stdout",
     "output_type": "stream",
     "text": [
      "[1 1 1 1 1]\n",
      "[0 0 0 0 0 0 0 0 0 0]\n",
      "[ 0  2  5  7 10]\n"
     ]
    }
   ],
   "source": [
    "# While the default data type is floating point (np.float64), you can explicitly specify which data type you want using the dtype keyword.\n",
    "\n",
    "print(np.ones(5, dtype=np.int64))\n",
    "print(np.zeros(10,dtype=np.int64))\n",
    "print(np.linspace(0, 10, num=5,dtype=np.int64))\n"
   ]
  },
  {
   "cell_type": "markdown",
   "id": "cc1821c2-ed1d-4efc-839e-6c345dc6d102",
   "metadata": {},
   "source": [
    "### Adding, removing, and sorting elements"
   ]
  },
  {
   "cell_type": "code",
   "execution_count": 3,
   "id": "97fea1dc-2fc7-4aab-a3e7-43bd4c2f6247",
   "metadata": {},
   "outputs": [
    {
     "name": "stdout",
     "output_type": "stream",
     "text": [
      "Original array: [2 1 5 3 7 4 6 8]\n",
      "Sorted array: [1 2 3 4 5 6 7 8]\n"
     ]
    }
   ],
   "source": [
    "arr = np.array([2, 1, 5, 3, 7, 4, 6, 8])\n",
    "print(f\"Original array: {arr}\")\n",
    "print(f\"Sorted array: {np.sort(arr)}\")"
   ]
  },
  {
   "cell_type": "code",
   "execution_count": 4,
   "id": "e2e5626c-986c-46f7-a935-2e3e2fe64135",
   "metadata": {},
   "outputs": [
    {
     "data": {
      "text/plain": [
       "array([1, 2, 3, 4, 5, 6, 7, 8])"
      ]
     },
     "execution_count": 4,
     "metadata": {},
     "output_type": "execute_result"
    }
   ],
   "source": [
    "a = np.array([1, 2, 3, 4])\n",
    "b = np.array([5, 6, 7, 8])\n",
    "np.concatenate((a, b))"
   ]
  },
  {
   "cell_type": "code",
   "execution_count": 5,
   "id": "bf13b888-3981-4b37-aaef-bb865117a275",
   "metadata": {},
   "outputs": [
    {
     "data": {
      "text/plain": [
       "array([[1, 2],\n",
       "       [3, 4],\n",
       "       [5, 6]])"
      ]
     },
     "execution_count": 5,
     "metadata": {},
     "output_type": "execute_result"
    }
   ],
   "source": [
    "x = np.array([[1, 2], [3, 4]])\n",
    "y = np.array([[5, 6]])\n",
    "np.concatenate((x, y), axis=0)"
   ]
  },
  {
   "cell_type": "markdown",
   "id": "888d05df-9f30-44c3-95c0-d1b8516188ff",
   "metadata": {},
   "source": [
    "### Function Purpose: numpy.sort is used to return a sorted copy of an array.\n",
    "\n",
    "**numpy.sort(a, axis=-1, kind=None, order=None, \\*, stable=None)**\n",
    "\n",
    "#### Parameters:\n",
    "\n",
    "- **a**: The array to be sorted.\n",
    "\n",
    "- **axis**: The axis along which to sort. Default is -1 (last axis).\n",
    "\n",
    "- **kind**: Specifies the sorting algorithm ('quicksort', 'mergesort', 'heapsort', 'stable'). The default is 'quicksort'.\n",
    "\n",
    "- **order**: Used to specify fields to compare when sorting structured arrays.\n",
    "\n",
    "- **stable**: Ensures sort stability if set to True. The default is None."
   ]
  },
  {
   "cell_type": "code",
   "execution_count": 8,
   "id": "2fa5036f-d76a-4cf9-a98d-aae21c0b6a71",
   "metadata": {},
   "outputs": [
    {
     "name": "stdout",
     "output_type": "stream",
     "text": [
      "Sort along the last axis\n",
      "[[1 2 4 5]\n",
      " [1 2 3 6]]\n",
      "Sort the flattened array\n",
      "[1 1 2 2 3 4 5 6]\n",
      "Sort along the first axis\n",
      "[[1 1 2 5]\n",
      " [3 4 2 6]]\n",
      "Sort along the 2nd axis\n",
      "[[1 2 4 5]\n",
      " [1 2 3 6]]\n"
     ]
    }
   ],
   "source": [
    "#\n",
    "a = np.array([[1,4,2,5],[3,1,2,6]])\n",
    "print(\"Sort along the last axis\")\n",
    "print(np.sort(a))                # sort along the last axis\n",
    "print(\"Sort the flattened array\")\n",
    "print(np.sort(a, axis=None))     # sort the flattened array\n",
    "print(\"Sort along the first axis\")\n",
    "print(np.sort(a, axis=0))        # sort along the first axis\n",
    "print(\"Sort along the 2nd axis\")\n",
    "print(np.sort(a, axis=1))        # sort along the 2nd axis"
   ]
  },
  {
   "cell_type": "markdown",
   "id": "8ed26287-d54a-4805-8505-c17d809f6ae1",
   "metadata": {},
   "source": [
    "Use the order keyword to specify a field to use when sorting a structured array:"
   ]
  },
  {
   "cell_type": "code",
   "execution_count": 9,
   "id": "f7d41d4e-3203-405b-b027-cd7de18e59c6",
   "metadata": {},
   "outputs": [
    {
     "data": {
      "text/plain": [
       "array([(b'Galahad', 1.7, 38), (b'Arthur', 1.8, 41),\n",
       "       (b'Lancelot', 1.9, 38)],\n",
       "      dtype=[('name', 'S10'), ('height', '<f8'), ('age', '<i8')])"
      ]
     },
     "execution_count": 9,
     "metadata": {},
     "output_type": "execute_result"
    }
   ],
   "source": [
    "dtype = [('name', 'S10'), ('height', float), ('age', int)]\n",
    "values = [('Arthur', 1.8, 41), ('Lancelot', 1.9, 38),\n",
    "          ('Galahad', 1.7, 38)]\n",
    "a = np.array(values, dtype=dtype)       # create a structured array\n",
    "np.sort(a, order='height')                        "
   ]
  },
  {
   "cell_type": "code",
   "execution_count": 10,
   "id": "0a68b0b4-a6ac-47c6-a36a-29e5d7ff5566",
   "metadata": {},
   "outputs": [
    {
     "data": {
      "text/plain": [
       "array([(b'Galahad', 1.7, 38), (b'Lancelot', 1.9, 38),\n",
       "       (b'Arthur', 1.8, 41)],\n",
       "      dtype=[('name', 'S10'), ('height', '<f8'), ('age', '<i8')])"
      ]
     },
     "execution_count": 10,
     "metadata": {},
     "output_type": "execute_result"
    }
   ],
   "source": [
    "np.sort(a, order=['age', 'height'])               "
   ]
  },
  {
   "cell_type": "code",
   "execution_count": null,
   "id": "b810d485-1223-47bb-a88b-3da46e9d60d9",
   "metadata": {},
   "outputs": [],
   "source": []
  }
 ],
 "metadata": {
  "kernelspec": {
   "display_name": "Python 3 [3.10]",
   "language": "python",
   "name": "python3"
  },
  "language_info": {
   "codemirror_mode": {
    "name": "ipython",
    "version": 3
   },
   "file_extension": ".py",
   "mimetype": "text/x-python",
   "name": "python",
   "nbconvert_exporter": "python",
   "pygments_lexer": "ipython3",
   "version": "3.10.2"
  }
 },
 "nbformat": 4,
 "nbformat_minor": 5
}
