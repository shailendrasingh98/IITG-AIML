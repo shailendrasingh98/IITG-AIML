{
 "cells": [
  {
   "cell_type": "code",
   "execution_count": 36,
   "id": "f42ea33a-d1c2-4440-bcd9-65ccd5410fbe",
   "metadata": {},
   "outputs": [],
   "source": [
    "import numpy as np"
   ]
  },
  {
   "cell_type": "code",
   "execution_count": 37,
   "id": "e4140eac-43e2-4122-b4e1-38b737ccfe77",
   "metadata": {},
   "outputs": [],
   "source": [
    "array = np.array([[1,2,3], [4,5,6]])"
   ]
  },
  {
   "cell_type": "code",
   "execution_count": 38,
   "id": "f2899d8a-209b-4bd4-a070-f21b7d812f37",
   "metadata": {},
   "outputs": [
    {
     "data": {
      "text/plain": [
       "array([[1, 2, 3],\n",
       "       [4, 5, 6]])"
      ]
     },
     "execution_count": 38,
     "metadata": {},
     "output_type": "execute_result"
    }
   ],
   "source": [
    "array"
   ]
  },
  {
   "cell_type": "code",
   "execution_count": 39,
   "id": "b9bdc094-ccf3-4e1b-95f2-dd28df1cd14f",
   "metadata": {},
   "outputs": [
    {
     "name": "stdout",
     "output_type": "stream",
     "text": [
      "Numpy Attributes- \n",
      "ndim: 2\n",
      "Shape: (2, 3)\n",
      "Size: 6\n",
      "item size: 8\n",
      "dtype: int64\n",
      "data: <memory at 0x7fc2f65085f0>\n"
     ]
    }
   ],
   "source": [
    "print(\"Numpy Attributes- \")\n",
    "print(f\"ndim: { array.ndim }\")\n",
    "print(f\"Shape: {array.shape}\")\n",
    "print(f\"Size: {array.size}\")\n",
    "print(f\"item size: {array.itemsize}\")\n",
    "print(f\"dtype: {array.dtype}\")\n",
    "print(f\"data: {array.data}\") # memory view, the buffer containing the actual elements of the array"
   ]
  },
  {
   "cell_type": "code",
   "execution_count": 40,
   "id": "22337999-b48a-40d3-96ca-97c2c01fbb9a",
   "metadata": {},
   "outputs": [],
   "source": [
    "array = np.array([1,2,3,4,5,6,7,8,9,10])"
   ]
  },
  {
   "cell_type": "code",
   "execution_count": 41,
   "id": "d513d528-d467-47af-b181-0900573fa633",
   "metadata": {},
   "outputs": [
    {
     "data": {
      "text/plain": [
       "(10,)"
      ]
     },
     "execution_count": 41,
     "metadata": {},
     "output_type": "execute_result"
    }
   ],
   "source": [
    "array.shape"
   ]
  },
  {
   "cell_type": "code",
   "execution_count": 42,
   "id": "83bc2fc2-bfcd-4653-9329-4f61d5df855b",
   "metadata": {},
   "outputs": [
    {
     "data": {
      "text/plain": [
       "array([[ 1,  2,  3,  4,  5],\n",
       "       [ 6,  7,  8,  9, 10]])"
      ]
     },
     "execution_count": 42,
     "metadata": {},
     "output_type": "execute_result"
    }
   ],
   "source": [
    "array.reshape(2,5) # reshape the data in different dimenssions. "
   ]
  },
  {
   "cell_type": "code",
   "execution_count": 43,
   "id": "e14a8ac5-2419-4a53-a9f5-21f889efd6b0",
   "metadata": {},
   "outputs": [
    {
     "data": {
      "text/plain": [
       "array([[ 1,  2,  3,  4,  5],\n",
       "       [ 6,  7,  8,  9, 10]])"
      ]
     },
     "execution_count": 43,
     "metadata": {},
     "output_type": "execute_result"
    }
   ],
   "source": [
    "array.reshape([2,5]) # 2 rows AND 5 cols"
   ]
  },
  {
   "cell_type": "code",
   "execution_count": 44,
   "id": "7bf2cb24-f89d-4c97-9900-90663a868481",
   "metadata": {},
   "outputs": [
    {
     "data": {
      "text/plain": [
       "array([[[ 1],\n",
       "        [ 2],\n",
       "        [ 3],\n",
       "        [ 4],\n",
       "        [ 5]],\n",
       "\n",
       "       [[ 6],\n",
       "        [ 7],\n",
       "        [ 8],\n",
       "        [ 9],\n",
       "        [10]]])"
      ]
     },
     "execution_count": 44,
     "metadata": {},
     "output_type": "execute_result"
    }
   ],
   "source": [
    "array.reshape(2,5,1) # 2x,5y and 1z"
   ]
  },
  {
   "cell_type": "code",
   "execution_count": 45,
   "id": "d89247b7-76c8-41cc-afc0-1ae67dcc6e43",
   "metadata": {},
   "outputs": [
    {
     "data": {
      "text/plain": [
       "array([[ 1,  2,  3,  4,  5],\n",
       "       [ 6,  7,  8,  9, 10]])"
      ]
     },
     "execution_count": 45,
     "metadata": {},
     "output_type": "execute_result"
    }
   ],
   "source": [
    "reashaped = array.reshape([2,5])\n",
    "reashaped\n"
   ]
  },
  {
   "cell_type": "code",
   "execution_count": 46,
   "id": "1be4cbcf-b594-4d6c-b1a1-fd489749048f",
   "metadata": {},
   "outputs": [
    {
     "data": {
      "text/plain": [
       "array([ 1,  2,  3,  4,  5,  6,  7,  8,  9, 10])"
      ]
     },
     "execution_count": 46,
     "metadata": {},
     "output_type": "execute_result"
    }
   ],
   "source": [
    "reashaped.flatten()"
   ]
  },
  {
   "cell_type": "code",
   "execution_count": 47,
   "id": "0370c3f6-d012-41ed-8f5e-fc14a281f83e",
   "metadata": {},
   "outputs": [
    {
     "data": {
      "text/plain": [
       "array([ 1,  2,  3,  4,  5,  6,  7,  8,  9, 10])"
      ]
     },
     "execution_count": 47,
     "metadata": {},
     "output_type": "execute_result"
    }
   ],
   "source": [
    "array"
   ]
  },
  {
   "cell_type": "code",
   "execution_count": 48,
   "id": "8bad57e5-0d6a-4263-8d85-015eca6adf34",
   "metadata": {},
   "outputs": [
    {
     "data": {
      "text/plain": [
       "array([[ 1,  2,  3,  4,  5],\n",
       "       [ 6,  7,  8,  9, 10]])"
      ]
     },
     "execution_count": 48,
     "metadata": {},
     "output_type": "execute_result"
    }
   ],
   "source": [
    "reashaped"
   ]
  },
  {
   "cell_type": "code",
   "execution_count": 49,
   "id": "f23dc2df-3cb9-4742-bf9b-40f8d882e495",
   "metadata": {},
   "outputs": [
    {
     "data": {
      "text/plain": [
       "array([[ 1,  6],\n",
       "       [ 2,  7],\n",
       "       [ 3,  8],\n",
       "       [ 4,  9],\n",
       "       [ 5, 10]])"
      ]
     },
     "execution_count": 49,
     "metadata": {},
     "output_type": "execute_result"
    }
   ],
   "source": [
    "reashaped.transpose() # transpose from 2X5 to 5X2"
   ]
  },
  {
   "cell_type": "code",
   "execution_count": 50,
   "id": "d4f0ece0-1003-4f24-b616-d7c1264836f9",
   "metadata": {},
   "outputs": [],
   "source": [
    "# Arithmatic operations"
   ]
  },
  {
   "cell_type": "code",
   "execution_count": 51,
   "id": "1e9e08cb-a7be-4429-a246-57d228711980",
   "metadata": {},
   "outputs": [
    {
     "data": {
      "text/plain": [
       "array([12, 24, 35])"
      ]
     },
     "execution_count": 51,
     "metadata": {},
     "output_type": "execute_result"
    }
   ],
   "source": [
    "array1 = np.array([2,4,5])\n",
    "array2 = np.array([10,20,30])\n",
    "array3 = np.array([11,21,31])\n",
    "np.add(array1, array2) # upto 2 arrays can be added"
   ]
  },
  {
   "cell_type": "code",
   "execution_count": 52,
   "id": "7426ccf2-28b9-4fbf-870d-a56f3f1855b8",
   "metadata": {},
   "outputs": [
    {
     "data": {
      "text/plain": [
       "array([ 9, 17, 26])"
      ]
     },
     "execution_count": 52,
     "metadata": {},
     "output_type": "execute_result"
    }
   ],
   "source": [
    "np.subtract(array3, array1)"
   ]
  },
  {
   "cell_type": "code",
   "execution_count": 53,
   "id": "48b68732-5947-477b-8249-339ca844098e",
   "metadata": {},
   "outputs": [
    {
     "data": {
      "text/plain": [
       "array([ 20,  80, 150])"
      ]
     },
     "execution_count": 53,
     "metadata": {},
     "output_type": "execute_result"
    }
   ],
   "source": [
    "np.multiply(array1, array2)"
   ]
  },
  {
   "cell_type": "code",
   "execution_count": 55,
   "id": "5a88638d-7bba-4cd7-839e-ef07281588d0",
   "metadata": {},
   "outputs": [
    {
     "data": {
      "text/plain": [
       "array([5., 5., 6.])"
      ]
     },
     "execution_count": 55,
     "metadata": {},
     "output_type": "execute_result"
    }
   ],
   "source": [
    "np.divide(array2, array1)"
   ]
  },
  {
   "cell_type": "code",
   "execution_count": 57,
   "id": "2757ff04-618f-49b7-a484-96f1d2c5f92d",
   "metadata": {},
   "outputs": [
    {
     "data": {
      "text/plain": [
       "array([[20, 40, 50],\n",
       "       [60, 70, 80]])"
      ]
     },
     "execution_count": 57,
     "metadata": {},
     "output_type": "execute_result"
    }
   ],
   "source": [
    "array4 = np.array([[20,40,50],[60,70,80]])\n",
    "array4"
   ]
  },
  {
   "cell_type": "code",
   "execution_count": 58,
   "id": "4a9b2d85-714c-4c68-b8a0-e076e591e925",
   "metadata": {},
   "outputs": [
    {
     "data": {
      "text/plain": [
       "array([[10. , 10. , 10. ],\n",
       "       [30. , 17.5, 16. ]])"
      ]
     },
     "execution_count": 58,
     "metadata": {},
     "output_type": "execute_result"
    }
   ],
   "source": [
    "np.divide(array4, array1)"
   ]
  },
  {
   "cell_type": "code",
   "execution_count": 59,
   "id": "0488ff9b-c7fd-4bc7-9ed3-83fbf3eba53c",
   "metadata": {},
   "outputs": [
    {
     "data": {
      "text/plain": [
       "array([[ 40, 160, 250],\n",
       "       [120, 280, 400]])"
      ]
     },
     "execution_count": 59,
     "metadata": {},
     "output_type": "execute_result"
    }
   ],
   "source": [
    "np.multiply(array1, array4)"
   ]
  },
  {
   "cell_type": "code",
   "execution_count": 60,
   "id": "db12eaf7-398f-4dbb-a6f3-c1100ba5e7fd",
   "metadata": {},
   "outputs": [
    {
     "data": {
      "text/plain": [
       "array([[ 40, 160, 250],\n",
       "       [120, 280, 400]])"
      ]
     },
     "execution_count": 60,
     "metadata": {},
     "output_type": "execute_result"
    }
   ],
   "source": [
    "np.multiply(array4, array1)"
   ]
  },
  {
   "cell_type": "code",
   "execution_count": 61,
   "id": "d9173ab0-7eae-433e-b967-e2246e2ff547",
   "metadata": {},
   "outputs": [
    {
     "data": {
      "text/plain": [
       "array([     100,   160000, 24300000])"
      ]
     },
     "execution_count": 61,
     "metadata": {},
     "output_type": "execute_result"
    }
   ],
   "source": [
    "np.power(array2, array1)"
   ]
  },
  {
   "cell_type": "code",
   "execution_count": 62,
   "id": "b9b92755-2f22-4aa3-b925-24296e7e7cfe",
   "metadata": {},
   "outputs": [
    {
     "data": {
      "text/plain": [
       "array([2, 4, 8])"
      ]
     },
     "execution_count": 62,
     "metadata": {},
     "output_type": "execute_result"
    }
   ],
   "source": [
    "np.power([2,2,2], [1,2,3])"
   ]
  },
  {
   "cell_type": "code",
   "execution_count": 63,
   "id": "39f42b66-bffc-4f1f-b7f6-c50761fc86c7",
   "metadata": {},
   "outputs": [
    {
     "data": {
      "text/plain": [
       "array([[ 2,  4,  8],\n",
       "       [16, 32, 64]])"
      ]
     },
     "execution_count": 63,
     "metadata": {},
     "output_type": "execute_result"
    }
   ],
   "source": [
    "np.power([2,2,2], [[1,2,3],[4,5,6]])"
   ]
  },
  {
   "cell_type": "code",
   "execution_count": 64,
   "id": "7c5921c4-0322-408c-9ddd-d219022d1388",
   "metadata": {},
   "outputs": [],
   "source": [
    "# Below function to do various statistical function of data.\n"
   ]
  },
  {
   "cell_type": "code",
   "execution_count": 77,
   "id": "4edba487-723c-4702-8738-bb50b9e70b71",
   "metadata": {},
   "outputs": [
    {
     "name": "stdout",
     "output_type": "stream",
     "text": [
      "[ 1  2  3  4  5  6  7  8  9 10]\n",
      "Median: 5.5\n",
      "Mean: 5.5\n",
      "Standard Deviation: 2.8722813232690143\n",
      "Variance: 8.25\n",
      "Minimum: 1\n",
      "Maximum: 10\n",
      "25 Percentile: 3.25\n",
      "75 Percentile: 7.75\n",
      "99 Percentile: 9.91\n"
     ]
    }
   ],
   "source": [
    "print(array)\n",
    "print(f\"Median: {np.median(array)}\")\n",
    "#print(f\"Mode: {np.mode(array)}\")\n",
    "print(f\"Mean: {np.mean(array)}\")\n",
    "print(f\"Standard Deviation: {np.std(array)}\")\n",
    "print(f\"Variance: {np.var(array)}\")\n",
    "print(f\"Minimum: {np.min(array)}\")\n",
    "print(f\"Maximum: {np.max(array)}\")\n",
    "print(f\"25 Percentile: {np.percentile(array, 25)}\")\n",
    "print(f\"75 Percentile: {np.percentile(array, 75)}\")\n",
    "print(f\"99 Percentile: {np.percentile(array, 99)}\")"
   ]
  },
  {
   "cell_type": "code",
   "execution_count": 78,
   "id": "26f44037-4d0a-4e1b-9a09-5b051e5208fc",
   "metadata": {},
   "outputs": [
    {
     "name": "stderr",
     "output_type": "stream",
     "text": [
      "/tmp/ipykernel_135/2707763832.py:1: VisibleDeprecationWarning: Creating an ndarray from ragged nested sequences (which is a list-or-tuple of lists-or-tuples-or ndarrays with different lengths or shapes) is deprecated. If you meant to do this, you must specify 'dtype=object' when creating the ndarray.\n",
      "  np.array([[1,2,3], [4,5]])\n"
     ]
    },
    {
     "data": {
      "text/plain": [
       "array([list([1, 2, 3]), list([4, 5])], dtype=object)"
      ]
     },
     "execution_count": 78,
     "metadata": {},
     "output_type": "execute_result"
    }
   ],
   "source": [
    "np.array([[1,2,3], [4,5]])"
   ]
  },
  {
   "cell_type": "code",
   "execution_count": 79,
   "id": "514db0fc-af2e-47c7-b022-e222e39c47d1",
   "metadata": {},
   "outputs": [
    {
     "data": {
      "text/plain": [
       "array(['aa2', 'bb2'], dtype='<U3')"
      ]
     },
     "execution_count": 79,
     "metadata": {},
     "output_type": "execute_result"
    }
   ],
   "source": [
    "string_a1 = np.array(['a', 'b'])\n",
    "string_a2 = np.array(['a2', 'b2'])\n",
    "np.char.add(string_a1, string_a2)"
   ]
  },
  {
   "cell_type": "code",
   "execution_count": null,
   "id": "d49c299d-0c08-4141-84e7-bf99b1bb2bcf",
   "metadata": {},
   "outputs": [],
   "source": []
  }
 ],
 "metadata": {
  "kernelspec": {
   "display_name": "Python [conda env:base] *",
   "language": "python",
   "name": "conda-base-py"
  },
  "language_info": {
   "codemirror_mode": {
    "name": "ipython",
    "version": 3
   },
   "file_extension": ".py",
   "mimetype": "text/x-python",
   "name": "python",
   "nbconvert_exporter": "python",
   "pygments_lexer": "ipython3",
   "version": "3.12.7"
  },
  "toc-showcode": false
 },
 "nbformat": 4,
 "nbformat_minor": 5
}
