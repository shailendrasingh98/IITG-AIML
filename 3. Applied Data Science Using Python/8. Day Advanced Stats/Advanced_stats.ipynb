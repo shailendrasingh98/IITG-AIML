{
 "cells": [
  {
   "cell_type": "code",
   "execution_count": 1,
   "id": "4db7e09e-85c2-4647-b1f3-c86236bd5247",
   "metadata": {},
   "outputs": [
    {
     "name": "stdout",
     "output_type": "stream",
     "text": [
      "Data: [72, 75, 68, 80, 85, 65, 76, 79, 82, 71]\n",
      "Mean: 75.3\n",
      "Standard Deviation: 6.034069936618236\n",
      "Z-scores: [-0.55, -0.05, -1.21, 0.78, 1.61, -1.71, 0.12, 0.61, 1.11, -0.71]\n"
     ]
    },
    {
     "data": {
      "image/png": "[encoded data removed]",
      "text/plain": [
       "<Figure size 720x432 with 1 Axes>"
      ]
     },
     "metadata": {
      "needs_background": "light"
     },
     "output_type": "display_data"
    }
   ],
   "source": [
    "import numpy as np\n",
    "import matplotlib.pyplot as plt\n",
    "\n",
    "# Sample data\n",
    "data = [72, 75, 68, 80, 85, 65, 76, 79, 82, 71]\n",
    "\n",
    "# Calculate z-scores\n",
    "mean = np.mean(data)\n",
    "std_dev = np.std(data, ddof=0)  # population standard deviation\n",
    "z_scores = [(x - mean) / std_dev for x in data]\n",
    "\n",
    "print(\"Data:\", data)\n",
    "print(\"Mean:\", mean)\n",
    "print(\"Standard Deviation:\", std_dev)\n",
    "print(\"Z-scores:\", [round(z, 2) for z in z_scores])\n",
    "\n",
    "# Visualization\n",
    "plt.figure(figsize=(10, 6))\n",
    "plt.bar(range(len(data)), z_scores)\n",
    "plt.axhline(y=0, color='r', linestyle='-')\n",
    "plt.axhline(y=1, color='g', linestyle='--')\n",
    "plt.axhline(y=-1, color='g', linestyle='--')\n",
    "plt.title('Z-Scores for Each Data Point')\n",
    "plt.xlabel('Data Point Index')\n",
    "plt.ylabel('Z-Score')\n",
    "plt.show()"
   ]
  },
  {
   "cell_type": "code",
   "execution_count": 3,
   "id": "cf01f1bf-91e9-4d5e-bca0-46826e58db6d",
   "metadata": {},
   "outputs": [
    {
     "name": "stdout",
     "output_type": "stream",
     "text": [
      "[-0.5468945561889634, -0.04971768692626898, -1.2097970485392229, 0.7789104285115552, 1.6075385439493795, -1.7069739178019172, 0.11600793616129586, 0.6131848054239903, 1.110361674686685, -0.7126201792765283]\n",
      "[-0.55, -0.05, -1.21, 0.78, 1.61, -1.71, 0.12, 0.61, 1.11, -0.71]\n"
     ]
    }
   ],
   "source": [
    "import numpy as np\n",
    "import matplotlib.pyplot as plt\n",
    "\n",
    "# Sample data\n",
    "data = [72, 75, 68, 80, 85, 65, 76, 79, 82, 71]\n",
    "\n",
    "# Calculate z-scores\n",
    "mean = np.mean(data)\n",
    "std_dev = np.std(data, ddof=0)  # population standard deviation(delta degree of freedom)\n",
    "z_scores = [(mohan - mean) / std_dev for mohan in data] #list comprehension (executing for loop inside the list)\n",
    "print(z_scores)\n",
    "\n",
    "rounded_z_score = []\n",
    "for pooja in z_scores:\n",
    "    rounded_value = round(pooja,2)\n",
    "    rounded_z_score.append(rounded_value)\n",
    "print(rounded_z_score)\n",
    "\n",
    "\n",
    "# print(\"Data:\", data)\n",
    "# print(\"Mean:\", mean)\n",
    "# print(\"Standard Deviation:\", std_dev)\n",
    "# print([round(z, 2) for z in z_scores])\n",
    "#\n",
    "# # Visualization\n",
    "# plt.figure(figsize=(10, 6))\n",
    "# plt.bar(range(len(data)), z_scores)\n",
    "# plt.axhline(y=0, color='r', linestyle='-')\n",
    "# plt.axhline(y=1, color='g', linestyle='--')\n",
    "# plt.axhline(y=-1, color='g', linestyle='--')\n",
    "# plt.title('Z-Scores for Each Data Point')\n",
    "# plt.xlabel('Data Point Index')\n",
    "# plt.ylabel('Z-Score')\n",
    "# plt.show()"
   ]
  },
  {
   "cell_type": "code",
   "execution_count": 2,
   "id": "583e2af6-5f8e-434c-a48d-869ede458201",
   "metadata": {},
   "outputs": [
    {
     "name": "stdout",
     "output_type": "stream",
     "text": [
      "Group 1: [72, 75, 68, 80, 85, 65, 76]\n",
      "Group 2: [62, 68, 70, 75, 71, 60, 65]\n",
      "T-statistic: 2.18\n",
      "P-value: 0.0495\n",
      "Significant difference:\n"
     ]
    },
    {
     "data": {
      "image/png": "[encoded data removed]",
      "text/plain": [
       "<Figure size 720x432 with 1 Axes>"
      ]
     },
     "metadata": {
      "needs_background": "light"
     },
     "output_type": "display_data"
    }
   ],
   "source": [
    "import numpy as np\n",
    "from scipy import stats\n",
    "import matplotlib.pyplot as plt\n",
    "\n",
    "# Sample data (small sample)\n",
    "group1 = [72, 75, 68, 80, 85, 65, 76]\n",
    "group2 = [62, 68, 70, 75, 71, 60, 65]\n",
    "\n",
    "# Calculate t-test\n",
    "t_stat, p_value = stats.ttest_ind(group1, group2, equal_var=True)\n",
    "\n",
    "print(\"Group 1:\", group1)\n",
    "print(\"Group 2:\", group2)\n",
    "print(\"T-statistic:\", round(t_stat, 2))\n",
    "print(\"P-value:\", round(p_value, 4))\n",
    "print(\"Significant difference:\" if p_value < 0.05 else \"No significant difference:\")\n",
    "\n",
    "# Visualization\n",
    "plt.figure(figsize=(10, 6))\n",
    "plt.boxplot([group1, group2])\n",
    "plt.xticks([1, 2], ['Group 1', 'Group 2'])\n",
    "plt.title(f'T-test: t={round(t_stat, 2)}, p={round(p_value, 4)}')\n",
    "plt.ylabel('Values')\n",
    "plt.show()"
   ]
  },
  {
   "cell_type": "code",
   "execution_count": 4,
   "id": "aaa7b02a-a6d0-41f7-aae2-1976ac7a9eca",
   "metadata": {},
   "outputs": [
    {
     "name": "stdout",
     "output_type": "stream",
     "text": [
      "Group 1: [72, 75, 68, 80, 85, 65, 76]\n",
      "Group 2: [62, 68, 70, 75, 71, 60, 65]\n",
      "Group 3: [80, 82, 84, 77, 81, 79, 83]\n",
      "F-statistic: 12.0\n",
      "P-value: 0.0005\n",
      "Significant difference\n"
     ]
    },
    {
     "data": {
      "image/png": "[encoded data removed]",
      "text/plain": [
       "<Figure size 720x432 with 1 Axes>"
      ]
     },
     "metadata": {
      "needs_background": "light"
     },
     "output_type": "display_data"
    }
   ],
   "source": [
    "import numpy as np\n",
    "from scipy import stats\n",
    "import matplotlib.pyplot as plt\n",
    "\n",
    "# Sample data for ANOVA (three groups)\n",
    "group1 = [72, 75, 68, 80, 85, 65, 76]\n",
    "group2 = [62, 68, 70, 75, 71, 60, 65]\n",
    "group3 = [80, 82, 84, 77, 81, 79, 83]\n",
    "\n",
    "# Perform one-way ANOVA\n",
    "f_stat, p_value = stats.f_oneway(group1, group2, group3)\n",
    "\n",
    "print(\"Group 1:\", group1)\n",
    "print(\"Group 2:\", group2)\n",
    "print(\"Group 3:\", group3)\n",
    "print(\"F-statistic:\", round(f_stat, 2))\n",
    "print(\"P-value:\", round(p_value, 4))\n",
    "print(\"Significant difference\" if p_value < 0.05 else \"No significant difference\")\n",
    "\n",
    "# Visualization\n",
    "plt.figure(figsize=(10, 6))\n",
    "plt.boxplot([group1, group2, group3])\n",
    "plt.xticks([1, 2, 3], ['Group 1', 'Group 2', 'Group 3'])\n",
    "plt.title(f'ANOVA: F={round(f_stat, 2)}, p={round(p_value, 4)}')\n",
    "plt.ylabel('Values')\n",
    "plt.show()"
   ]
  },
  {
   "cell_type": "code",
   "execution_count": null,
   "id": "a1d463a5-4803-4862-949a-5c419a815b47",
   "metadata": {},
   "outputs": [],
   "source": []
  }
 ],
 "metadata": {
  "kernelspec": {
   "display_name": "Python 3 [3.10]",
   "language": "python",
   "name": "python3"
  },
  "language_info": {
   "codemirror_mode": {
    "name": "ipython",
    "version": 3
   },
   "file_extension": ".py",
   "mimetype": "text/x-python",
   "name": "python",
   "nbconvert_exporter": "python",
   "pygments_lexer": "ipython3",
   "version": "3.10.2"
  }
 },
 "nbformat": 4,
 "nbformat_minor": 5
}
