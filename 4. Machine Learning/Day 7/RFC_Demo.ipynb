{
 "cells": [
  {
   "cell_type": "code",
   "execution_count": 1,
   "metadata": {},
   "outputs": [],
   "source": [
    "import pandas as pd\n",
    "from sklearn.model_selection import train_test_split\n",
    "import matplotlib.pyplot as plt\n",
    "from sklearn.preprocessing import LabelEncoder\n",
    "from sklearn.metrics import accuracy_score\n",
    "from sklearn.metrics import classification_report"
   ]
  },
  {
   "cell_type": "code",
   "execution_count": 2,
   "metadata": {},
   "outputs": [],
   "source": [
    "horse_df = pd.read_csv(\"D:\\SimpliLearn\\Machine+Learning\\Course Components\\Assisted Practice\\Lesson 5\\Horse.csv\")"
   ]
  },
  {
   "cell_type": "code",
   "execution_count": 3,
   "metadata": {},
   "outputs": [
    {
     "data": {
      "text/plain": [
       "(299, 28)"
      ]
     },
     "execution_count": 3,
     "metadata": {},
     "output_type": "execute_result"
    }
   ],
   "source": [
    "horse_df.shape"
   ]
  },
  {
   "cell_type": "code",
   "execution_count": 4,
   "metadata": {},
   "outputs": [
    {
     "data": {
      "text/html": [
       "<div>\n",
       "<style scoped>\n",
       "    .dataframe tbody tr th:only-of-type {\n",
       "        vertical-align: middle;\n",
       "    }\n",
       "\n",
       "    .dataframe tbody tr th {\n",
       "        vertical-align: top;\n",
       "    }\n",
       "\n",
       "    .dataframe thead th {\n",
       "        text-align: right;\n",
       "    }\n",
       "</style>\n",
       "<table border=\"1\" class=\"dataframe\">\n",
       "  <thead>\n",
       "    <tr style=\"text-align: right;\">\n",
       "      <th></th>\n",
       "      <th>surgery</th>\n",
       "      <th>age</th>\n",
       "      <th>hospital_number</th>\n",
       "      <th>rectal_temp</th>\n",
       "      <th>pulse</th>\n",
       "      <th>respiratory_rate</th>\n",
       "      <th>temp_of_extremities</th>\n",
       "      <th>peripheral_pulse</th>\n",
       "      <th>mucous_membrane</th>\n",
       "      <th>capillary_refill_time</th>\n",
       "      <th>...</th>\n",
       "      <th>packed_cell_volume</th>\n",
       "      <th>total_protein</th>\n",
       "      <th>abdomo_appearance</th>\n",
       "      <th>abdomo_protein</th>\n",
       "      <th>outcome</th>\n",
       "      <th>surgical_lesion</th>\n",
       "      <th>lesion_1</th>\n",
       "      <th>lesion_2</th>\n",
       "      <th>lesion_3</th>\n",
       "      <th>cp_data</th>\n",
       "    </tr>\n",
       "  </thead>\n",
       "  <tbody>\n",
       "    <tr>\n",
       "      <td>0</td>\n",
       "      <td>no</td>\n",
       "      <td>adult</td>\n",
       "      <td>530101</td>\n",
       "      <td>38.5</td>\n",
       "      <td>66.0</td>\n",
       "      <td>28.0</td>\n",
       "      <td>cool</td>\n",
       "      <td>reduced</td>\n",
       "      <td>NaN</td>\n",
       "      <td>more_3_sec</td>\n",
       "      <td>...</td>\n",
       "      <td>45.0</td>\n",
       "      <td>8.4</td>\n",
       "      <td>NaN</td>\n",
       "      <td>NaN</td>\n",
       "      <td>died</td>\n",
       "      <td>no</td>\n",
       "      <td>11300</td>\n",
       "      <td>0</td>\n",
       "      <td>0</td>\n",
       "      <td>no</td>\n",
       "    </tr>\n",
       "    <tr>\n",
       "      <td>1</td>\n",
       "      <td>yes</td>\n",
       "      <td>adult</td>\n",
       "      <td>534817</td>\n",
       "      <td>39.2</td>\n",
       "      <td>88.0</td>\n",
       "      <td>20.0</td>\n",
       "      <td>NaN</td>\n",
       "      <td>NaN</td>\n",
       "      <td>pale_cyanotic</td>\n",
       "      <td>less_3_sec</td>\n",
       "      <td>...</td>\n",
       "      <td>50.0</td>\n",
       "      <td>85.0</td>\n",
       "      <td>cloudy</td>\n",
       "      <td>2.0</td>\n",
       "      <td>euthanized</td>\n",
       "      <td>no</td>\n",
       "      <td>2208</td>\n",
       "      <td>0</td>\n",
       "      <td>0</td>\n",
       "      <td>no</td>\n",
       "    </tr>\n",
       "    <tr>\n",
       "      <td>2</td>\n",
       "      <td>no</td>\n",
       "      <td>adult</td>\n",
       "      <td>530334</td>\n",
       "      <td>38.3</td>\n",
       "      <td>40.0</td>\n",
       "      <td>24.0</td>\n",
       "      <td>normal</td>\n",
       "      <td>normal</td>\n",
       "      <td>pale_pink</td>\n",
       "      <td>less_3_sec</td>\n",
       "      <td>...</td>\n",
       "      <td>33.0</td>\n",
       "      <td>6.7</td>\n",
       "      <td>NaN</td>\n",
       "      <td>NaN</td>\n",
       "      <td>lived</td>\n",
       "      <td>no</td>\n",
       "      <td>0</td>\n",
       "      <td>0</td>\n",
       "      <td>0</td>\n",
       "      <td>yes</td>\n",
       "    </tr>\n",
       "    <tr>\n",
       "      <td>3</td>\n",
       "      <td>yes</td>\n",
       "      <td>young</td>\n",
       "      <td>5290409</td>\n",
       "      <td>39.1</td>\n",
       "      <td>164.0</td>\n",
       "      <td>84.0</td>\n",
       "      <td>cold</td>\n",
       "      <td>normal</td>\n",
       "      <td>dark_cyanotic</td>\n",
       "      <td>more_3_sec</td>\n",
       "      <td>...</td>\n",
       "      <td>48.0</td>\n",
       "      <td>7.2</td>\n",
       "      <td>serosanguious</td>\n",
       "      <td>5.3</td>\n",
       "      <td>died</td>\n",
       "      <td>yes</td>\n",
       "      <td>2208</td>\n",
       "      <td>0</td>\n",
       "      <td>0</td>\n",
       "      <td>yes</td>\n",
       "    </tr>\n",
       "    <tr>\n",
       "      <td>4</td>\n",
       "      <td>no</td>\n",
       "      <td>adult</td>\n",
       "      <td>530255</td>\n",
       "      <td>37.3</td>\n",
       "      <td>104.0</td>\n",
       "      <td>35.0</td>\n",
       "      <td>NaN</td>\n",
       "      <td>NaN</td>\n",
       "      <td>dark_cyanotic</td>\n",
       "      <td>more_3_sec</td>\n",
       "      <td>...</td>\n",
       "      <td>74.0</td>\n",
       "      <td>7.4</td>\n",
       "      <td>NaN</td>\n",
       "      <td>NaN</td>\n",
       "      <td>died</td>\n",
       "      <td>no</td>\n",
       "      <td>4300</td>\n",
       "      <td>0</td>\n",
       "      <td>0</td>\n",
       "      <td>no</td>\n",
       "    </tr>\n",
       "  </tbody>\n",
       "</table>\n",
       "<p>5 rows × 28 columns</p>\n",
       "</div>"
      ],
      "text/plain": [
       "  surgery    age  hospital_number  rectal_temp  pulse  respiratory_rate  \\\n",
       "0      no  adult           530101         38.5   66.0              28.0   \n",
       "1     yes  adult           534817         39.2   88.0              20.0   \n",
       "2      no  adult           530334         38.3   40.0              24.0   \n",
       "3     yes  young          5290409         39.1  164.0              84.0   \n",
       "4      no  adult           530255         37.3  104.0              35.0   \n",
       "\n",
       "  temp_of_extremities peripheral_pulse mucous_membrane capillary_refill_time  \\\n",
       "0                cool          reduced             NaN            more_3_sec   \n",
       "1                 NaN              NaN   pale_cyanotic            less_3_sec   \n",
       "2              normal           normal       pale_pink            less_3_sec   \n",
       "3                cold           normal   dark_cyanotic            more_3_sec   \n",
       "4                 NaN              NaN   dark_cyanotic            more_3_sec   \n",
       "\n",
       "   ... packed_cell_volume total_protein abdomo_appearance abdomo_protein  \\\n",
       "0  ...               45.0           8.4               NaN            NaN   \n",
       "1  ...               50.0          85.0            cloudy            2.0   \n",
       "2  ...               33.0           6.7               NaN            NaN   \n",
       "3  ...               48.0           7.2     serosanguious            5.3   \n",
       "4  ...               74.0           7.4               NaN            NaN   \n",
       "\n",
       "      outcome  surgical_lesion lesion_1 lesion_2  lesion_3  cp_data  \n",
       "0        died               no    11300        0         0       no  \n",
       "1  euthanized               no     2208        0         0       no  \n",
       "2       lived               no        0        0         0      yes  \n",
       "3        died              yes     2208        0         0      yes  \n",
       "4        died               no     4300        0         0       no  \n",
       "\n",
       "[5 rows x 28 columns]"
      ]
     },
     "execution_count": 4,
     "metadata": {},
     "output_type": "execute_result"
    }
   ],
   "source": [
    "horse_df.head(5)"
   ]
  },
  {
   "cell_type": "code",
   "execution_count": 5,
   "metadata": {},
   "outputs": [
    {
     "data": {
      "text/html": [
       "<div>\n",
       "<style scoped>\n",
       "    .dataframe tbody tr th:only-of-type {\n",
       "        vertical-align: middle;\n",
       "    }\n",
       "\n",
       "    .dataframe tbody tr th {\n",
       "        vertical-align: top;\n",
       "    }\n",
       "\n",
       "    .dataframe thead th {\n",
       "        text-align: right;\n",
       "    }\n",
       "</style>\n",
       "<table border=\"1\" class=\"dataframe\">\n",
       "  <thead>\n",
       "    <tr style=\"text-align: right;\">\n",
       "      <th></th>\n",
       "      <th>0</th>\n",
       "      <th>1</th>\n",
       "      <th>2</th>\n",
       "      <th>3</th>\n",
       "      <th>4</th>\n",
       "    </tr>\n",
       "  </thead>\n",
       "  <tbody>\n",
       "    <tr>\n",
       "      <td>surgery</td>\n",
       "      <td>no</td>\n",
       "      <td>yes</td>\n",
       "      <td>no</td>\n",
       "      <td>yes</td>\n",
       "      <td>no</td>\n",
       "    </tr>\n",
       "    <tr>\n",
       "      <td>age</td>\n",
       "      <td>adult</td>\n",
       "      <td>adult</td>\n",
       "      <td>adult</td>\n",
       "      <td>young</td>\n",
       "      <td>adult</td>\n",
       "    </tr>\n",
       "    <tr>\n",
       "      <td>hospital_number</td>\n",
       "      <td>530101</td>\n",
       "      <td>534817</td>\n",
       "      <td>530334</td>\n",
       "      <td>5290409</td>\n",
       "      <td>530255</td>\n",
       "    </tr>\n",
       "    <tr>\n",
       "      <td>rectal_temp</td>\n",
       "      <td>38.5</td>\n",
       "      <td>39.2</td>\n",
       "      <td>38.3</td>\n",
       "      <td>39.1</td>\n",
       "      <td>37.3</td>\n",
       "    </tr>\n",
       "    <tr>\n",
       "      <td>pulse</td>\n",
       "      <td>66</td>\n",
       "      <td>88</td>\n",
       "      <td>40</td>\n",
       "      <td>164</td>\n",
       "      <td>104</td>\n",
       "    </tr>\n",
       "    <tr>\n",
       "      <td>respiratory_rate</td>\n",
       "      <td>28</td>\n",
       "      <td>20</td>\n",
       "      <td>24</td>\n",
       "      <td>84</td>\n",
       "      <td>35</td>\n",
       "    </tr>\n",
       "    <tr>\n",
       "      <td>temp_of_extremities</td>\n",
       "      <td>cool</td>\n",
       "      <td>NaN</td>\n",
       "      <td>normal</td>\n",
       "      <td>cold</td>\n",
       "      <td>NaN</td>\n",
       "    </tr>\n",
       "    <tr>\n",
       "      <td>peripheral_pulse</td>\n",
       "      <td>reduced</td>\n",
       "      <td>NaN</td>\n",
       "      <td>normal</td>\n",
       "      <td>normal</td>\n",
       "      <td>NaN</td>\n",
       "    </tr>\n",
       "    <tr>\n",
       "      <td>mucous_membrane</td>\n",
       "      <td>NaN</td>\n",
       "      <td>pale_cyanotic</td>\n",
       "      <td>pale_pink</td>\n",
       "      <td>dark_cyanotic</td>\n",
       "      <td>dark_cyanotic</td>\n",
       "    </tr>\n",
       "    <tr>\n",
       "      <td>capillary_refill_time</td>\n",
       "      <td>more_3_sec</td>\n",
       "      <td>less_3_sec</td>\n",
       "      <td>less_3_sec</td>\n",
       "      <td>more_3_sec</td>\n",
       "      <td>more_3_sec</td>\n",
       "    </tr>\n",
       "    <tr>\n",
       "      <td>pain</td>\n",
       "      <td>extreme_pain</td>\n",
       "      <td>mild_pain</td>\n",
       "      <td>mild_pain</td>\n",
       "      <td>depressed</td>\n",
       "      <td>NaN</td>\n",
       "    </tr>\n",
       "    <tr>\n",
       "      <td>peristalsis</td>\n",
       "      <td>absent</td>\n",
       "      <td>absent</td>\n",
       "      <td>hypomotile</td>\n",
       "      <td>absent</td>\n",
       "      <td>NaN</td>\n",
       "    </tr>\n",
       "    <tr>\n",
       "      <td>abdominal_distention</td>\n",
       "      <td>severe</td>\n",
       "      <td>slight</td>\n",
       "      <td>none</td>\n",
       "      <td>severe</td>\n",
       "      <td>NaN</td>\n",
       "    </tr>\n",
       "    <tr>\n",
       "      <td>nasogastric_tube</td>\n",
       "      <td>NaN</td>\n",
       "      <td>NaN</td>\n",
       "      <td>NaN</td>\n",
       "      <td>none</td>\n",
       "      <td>NaN</td>\n",
       "    </tr>\n",
       "    <tr>\n",
       "      <td>nasogastric_reflux</td>\n",
       "      <td>NaN</td>\n",
       "      <td>NaN</td>\n",
       "      <td>NaN</td>\n",
       "      <td>less_1_liter</td>\n",
       "      <td>NaN</td>\n",
       "    </tr>\n",
       "    <tr>\n",
       "      <td>nasogastric_reflux_ph</td>\n",
       "      <td>NaN</td>\n",
       "      <td>NaN</td>\n",
       "      <td>NaN</td>\n",
       "      <td>5</td>\n",
       "      <td>NaN</td>\n",
       "    </tr>\n",
       "    <tr>\n",
       "      <td>rectal_exam_feces</td>\n",
       "      <td>decreased</td>\n",
       "      <td>absent</td>\n",
       "      <td>normal</td>\n",
       "      <td>decreased</td>\n",
       "      <td>NaN</td>\n",
       "    </tr>\n",
       "    <tr>\n",
       "      <td>abdomen</td>\n",
       "      <td>distend_large</td>\n",
       "      <td>other</td>\n",
       "      <td>normal</td>\n",
       "      <td>NaN</td>\n",
       "      <td>NaN</td>\n",
       "    </tr>\n",
       "    <tr>\n",
       "      <td>packed_cell_volume</td>\n",
       "      <td>45</td>\n",
       "      <td>50</td>\n",
       "      <td>33</td>\n",
       "      <td>48</td>\n",
       "      <td>74</td>\n",
       "    </tr>\n",
       "    <tr>\n",
       "      <td>total_protein</td>\n",
       "      <td>8.4</td>\n",
       "      <td>85</td>\n",
       "      <td>6.7</td>\n",
       "      <td>7.2</td>\n",
       "      <td>7.4</td>\n",
       "    </tr>\n",
       "    <tr>\n",
       "      <td>abdomo_appearance</td>\n",
       "      <td>NaN</td>\n",
       "      <td>cloudy</td>\n",
       "      <td>NaN</td>\n",
       "      <td>serosanguious</td>\n",
       "      <td>NaN</td>\n",
       "    </tr>\n",
       "    <tr>\n",
       "      <td>abdomo_protein</td>\n",
       "      <td>NaN</td>\n",
       "      <td>2</td>\n",
       "      <td>NaN</td>\n",
       "      <td>5.3</td>\n",
       "      <td>NaN</td>\n",
       "    </tr>\n",
       "    <tr>\n",
       "      <td>outcome</td>\n",
       "      <td>died</td>\n",
       "      <td>euthanized</td>\n",
       "      <td>lived</td>\n",
       "      <td>died</td>\n",
       "      <td>died</td>\n",
       "    </tr>\n",
       "    <tr>\n",
       "      <td>surgical_lesion</td>\n",
       "      <td>no</td>\n",
       "      <td>no</td>\n",
       "      <td>no</td>\n",
       "      <td>yes</td>\n",
       "      <td>no</td>\n",
       "    </tr>\n",
       "    <tr>\n",
       "      <td>lesion_1</td>\n",
       "      <td>11300</td>\n",
       "      <td>2208</td>\n",
       "      <td>0</td>\n",
       "      <td>2208</td>\n",
       "      <td>4300</td>\n",
       "    </tr>\n",
       "    <tr>\n",
       "      <td>lesion_2</td>\n",
       "      <td>0</td>\n",
       "      <td>0</td>\n",
       "      <td>0</td>\n",
       "      <td>0</td>\n",
       "      <td>0</td>\n",
       "    </tr>\n",
       "    <tr>\n",
       "      <td>lesion_3</td>\n",
       "      <td>0</td>\n",
       "      <td>0</td>\n",
       "      <td>0</td>\n",
       "      <td>0</td>\n",
       "      <td>0</td>\n",
       "    </tr>\n",
       "    <tr>\n",
       "      <td>cp_data</td>\n",
       "      <td>no</td>\n",
       "      <td>no</td>\n",
       "      <td>yes</td>\n",
       "      <td>yes</td>\n",
       "      <td>no</td>\n",
       "    </tr>\n",
       "  </tbody>\n",
       "</table>\n",
       "</div>"
      ],
      "text/plain": [
       "                                   0              1           2  \\\n",
       "surgery                           no            yes          no   \n",
       "age                            adult          adult       adult   \n",
       "hospital_number               530101         534817      530334   \n",
       "rectal_temp                     38.5           39.2        38.3   \n",
       "pulse                             66             88          40   \n",
       "respiratory_rate                  28             20          24   \n",
       "temp_of_extremities             cool            NaN      normal   \n",
       "peripheral_pulse             reduced            NaN      normal   \n",
       "mucous_membrane                  NaN  pale_cyanotic   pale_pink   \n",
       "capillary_refill_time     more_3_sec     less_3_sec  less_3_sec   \n",
       "pain                    extreme_pain      mild_pain   mild_pain   \n",
       "peristalsis                   absent         absent  hypomotile   \n",
       "abdominal_distention          severe         slight        none   \n",
       "nasogastric_tube                 NaN            NaN         NaN   \n",
       "nasogastric_reflux               NaN            NaN         NaN   \n",
       "nasogastric_reflux_ph            NaN            NaN         NaN   \n",
       "rectal_exam_feces          decreased         absent      normal   \n",
       "abdomen                distend_large          other      normal   \n",
       "packed_cell_volume                45             50          33   \n",
       "total_protein                    8.4             85         6.7   \n",
       "abdomo_appearance                NaN         cloudy         NaN   \n",
       "abdomo_protein                   NaN              2         NaN   \n",
       "outcome                         died     euthanized       lived   \n",
       "surgical_lesion                   no             no          no   \n",
       "lesion_1                       11300           2208           0   \n",
       "lesion_2                           0              0           0   \n",
       "lesion_3                           0              0           0   \n",
       "cp_data                           no             no         yes   \n",
       "\n",
       "                                   3              4  \n",
       "surgery                          yes             no  \n",
       "age                            young          adult  \n",
       "hospital_number              5290409         530255  \n",
       "rectal_temp                     39.1           37.3  \n",
       "pulse                            164            104  \n",
       "respiratory_rate                  84             35  \n",
       "temp_of_extremities             cold            NaN  \n",
       "peripheral_pulse              normal            NaN  \n",
       "mucous_membrane        dark_cyanotic  dark_cyanotic  \n",
       "capillary_refill_time     more_3_sec     more_3_sec  \n",
       "pain                       depressed            NaN  \n",
       "peristalsis                   absent            NaN  \n",
       "abdominal_distention          severe            NaN  \n",
       "nasogastric_tube                none            NaN  \n",
       "nasogastric_reflux      less_1_liter            NaN  \n",
       "nasogastric_reflux_ph              5            NaN  \n",
       "rectal_exam_feces          decreased            NaN  \n",
       "abdomen                          NaN            NaN  \n",
       "packed_cell_volume                48             74  \n",
       "total_protein                    7.2            7.4  \n",
       "abdomo_appearance      serosanguious            NaN  \n",
       "abdomo_protein                   5.3            NaN  \n",
       "outcome                         died           died  \n",
       "surgical_lesion                  yes             no  \n",
       "lesion_1                        2208           4300  \n",
       "lesion_2                           0              0  \n",
       "lesion_3                           0              0  \n",
       "cp_data                          yes             no  "
      ]
     },
     "execution_count": 5,
     "metadata": {},
     "output_type": "execute_result"
    }
   ],
   "source": [
    "horse_df.head(5).T"
   ]
  },
  {
   "cell_type": "code",
   "execution_count": 6,
   "metadata": {},
   "outputs": [
    {
     "name": "stdout",
     "output_type": "stream",
     "text": [
      "<class 'pandas.core.frame.DataFrame'>\n",
      "RangeIndex: 299 entries, 0 to 298\n",
      "Data columns (total 28 columns):\n",
      "surgery                  299 non-null object\n",
      "age                      299 non-null object\n",
      "hospital_number          299 non-null int64\n",
      "rectal_temp              239 non-null float64\n",
      "pulse                    275 non-null float64\n",
      "respiratory_rate         241 non-null float64\n",
      "temp_of_extremities      243 non-null object\n",
      "peripheral_pulse         230 non-null object\n",
      "mucous_membrane          252 non-null object\n",
      "capillary_refill_time    267 non-null object\n",
      "pain                     244 non-null object\n",
      "peristalsis              255 non-null object\n",
      "abdominal_distention     243 non-null object\n",
      "nasogastric_tube         195 non-null object\n",
      "nasogastric_reflux       193 non-null object\n",
      "nasogastric_reflux_ph    53 non-null float64\n",
      "rectal_exam_feces        197 non-null object\n",
      "abdomen                  181 non-null object\n",
      "packed_cell_volume       270 non-null float64\n",
      "total_protein            266 non-null float64\n",
      "abdomo_appearance        134 non-null object\n",
      "abdomo_protein           101 non-null float64\n",
      "outcome                  299 non-null object\n",
      "surgical_lesion          299 non-null object\n",
      "lesion_1                 299 non-null int64\n",
      "lesion_2                 299 non-null int64\n",
      "lesion_3                 299 non-null int64\n",
      "cp_data                  299 non-null object\n",
      "dtypes: float64(7), int64(4), object(17)\n",
      "memory usage: 65.5+ KB\n"
     ]
    }
   ],
   "source": [
    "horse_df.info()"
   ]
  },
  {
   "cell_type": "markdown",
   "metadata": {},
   "source": [
    "**Check for null values**"
   ]
  },
  {
   "cell_type": "code",
   "execution_count": 7,
   "metadata": {},
   "outputs": [
    {
     "data": {
      "text/plain": [
       "surgery                    0\n",
       "age                        0\n",
       "hospital_number            0\n",
       "rectal_temp               60\n",
       "pulse                     24\n",
       "respiratory_rate          58\n",
       "temp_of_extremities       56\n",
       "peripheral_pulse          69\n",
       "mucous_membrane           47\n",
       "capillary_refill_time     32\n",
       "pain                      55\n",
       "peristalsis               44\n",
       "abdominal_distention      56\n",
       "nasogastric_tube         104\n",
       "nasogastric_reflux       106\n",
       "nasogastric_reflux_ph    246\n",
       "rectal_exam_feces        102\n",
       "abdomen                  118\n",
       "packed_cell_volume        29\n",
       "total_protein             33\n",
       "abdomo_appearance        165\n",
       "abdomo_protein           198\n",
       "outcome                    0\n",
       "surgical_lesion            0\n",
       "lesion_1                   0\n",
       "lesion_2                   0\n",
       "lesion_3                   0\n",
       "cp_data                    0\n",
       "dtype: int64"
      ]
     },
     "execution_count": 7,
     "metadata": {},
     "output_type": "execute_result"
    }
   ],
   "source": [
    "horse_df.isnull().sum()"
   ]
  },
  {
   "cell_type": "markdown",
   "metadata": {},
   "source": [
    "**From above, we can infer that the numeric columns with null values are:**\n",
    "\n",
    "- rectal_temp float64\n",
    "- pulse float64\n",
    "- respiratory_rate float64\n",
    "- packed_cell_volume float64\n",
    "- total_protein float64\n",
    "- nasogastric_reflux_ph float64\n",
    "- abdomo_protein float64"
   ]
  },
  {
   "cell_type": "code",
   "execution_count": 8,
   "metadata": {},
   "outputs": [
    {
     "name": "stdout",
     "output_type": "stream",
     "text": [
      "*** rectal_temp ***\n",
      "float64\n",
      "----------------\n",
      "*** pulse ***\n",
      "float64\n",
      "----------------\n",
      "*** respiratory_rate ***\n",
      "float64\n",
      "----------------\n",
      "*** temp_of_extremities ***\n",
      "object\n",
      "----------------\n",
      "*** peripheral_pulse ***\n",
      "object\n",
      "----------------\n",
      "*** mucous_membrane ***\n",
      "object\n",
      "----------------\n",
      "*** capillary_refill_time ***\n",
      "object\n",
      "----------------\n",
      "*** pain ***\n",
      "object\n",
      "----------------\n",
      "*** peristalsis ***\n",
      "object\n",
      "----------------\n",
      "*** abdominal_distention ***\n",
      "object\n",
      "----------------\n",
      "*** nasogastric_tube ***\n",
      "object\n",
      "----------------\n",
      "*** nasogastric_reflux ***\n",
      "object\n",
      "----------------\n",
      "*** nasogastric_reflux_ph ***\n",
      "float64\n",
      "----------------\n",
      "*** rectal_exam_feces ***\n",
      "object\n",
      "----------------\n",
      "*** abdomen ***\n",
      "object\n",
      "----------------\n",
      "*** packed_cell_volume ***\n",
      "float64\n",
      "----------------\n",
      "*** total_protein ***\n",
      "float64\n",
      "----------------\n",
      "*** abdomo_appearance ***\n",
      "object\n",
      "----------------\n",
      "*** abdomo_protein ***\n",
      "float64\n",
      "----------------\n"
     ]
    }
   ],
   "source": [
    "#code to print out all the columns that have missing values \n",
    "for i in horse_df.columns:\n",
    "    if horse_df[i].hasnans:\n",
    "        print(\"***\",i,\"***\")\n",
    "        print(horse_df[i].dtype)\n",
    "        print(\"----------------\")"
   ]
  },
  {
   "cell_type": "code",
   "execution_count": 9,
   "metadata": {},
   "outputs": [
    {
     "name": "stdout",
     "output_type": "stream",
     "text": [
      "*** temp_of_extremities ***\n",
      "----------------\n",
      "*** peripheral_pulse ***\n",
      "----------------\n",
      "*** mucous_membrane ***\n",
      "----------------\n",
      "*** capillary_refill_time ***\n",
      "----------------\n",
      "*** pain ***\n",
      "----------------\n",
      "*** peristalsis ***\n",
      "----------------\n",
      "*** abdominal_distention ***\n",
      "----------------\n",
      "*** nasogastric_tube ***\n",
      "----------------\n",
      "*** nasogastric_reflux ***\n",
      "----------------\n",
      "*** rectal_exam_feces ***\n",
      "----------------\n",
      "*** abdomen ***\n",
      "----------------\n",
      "*** abdomo_appearance ***\n",
      "----------------\n"
     ]
    }
   ],
   "source": [
    "#code to print out only the object type columns that have missing values\n",
    "for i in horse_df.columns:\n",
    "    if horse_df[i].hasnans:\n",
    "        if horse_df[i].dtype == \"object\":\n",
    "            print(\"***\",i,\"***\")\n",
    "            print(\"----------------\")"
   ]
  },
  {
   "cell_type": "code",
   "execution_count": 10,
   "metadata": {},
   "outputs": [
    {
     "name": "stdout",
     "output_type": "stream",
     "text": [
      "*** rectal_temp ***\n",
      "float64\n",
      "60\n",
      "----------------\n",
      "*** pulse ***\n",
      "float64\n",
      "24\n",
      "----------------\n",
      "*** respiratory_rate ***\n",
      "float64\n",
      "58\n",
      "----------------\n",
      "*** nasogastric_reflux_ph ***\n",
      "float64\n",
      "246\n",
      "----------------\n",
      "*** packed_cell_volume ***\n",
      "float64\n",
      "29\n",
      "----------------\n",
      "*** total_protein ***\n",
      "float64\n",
      "33\n",
      "----------------\n",
      "*** abdomo_protein ***\n",
      "float64\n",
      "198\n",
      "----------------\n"
     ]
    }
   ],
   "source": [
    "for i in horse_df.columns:\n",
    "    if horse_df[i].hasnans:\n",
    "        if horse_df[i].dtype == \"float64\":\n",
    "            print(\"***\",i,\"***\")\n",
    "            print(horse_df[i].dtype)\n",
    "            print(horse_df[i].isnull().sum())        \n",
    "            print(\"----------------\")"
   ]
  },
  {
   "cell_type": "code",
   "execution_count": 11,
   "metadata": {},
   "outputs": [
    {
     "name": "stdout",
     "output_type": "stream",
     "text": [
      "*** temp_of_extremities ***\n",
      "object\n",
      "56\n",
      "----------------\n",
      "*** peripheral_pulse ***\n",
      "object\n",
      "69\n",
      "----------------\n",
      "*** mucous_membrane ***\n",
      "object\n",
      "47\n",
      "----------------\n",
      "*** capillary_refill_time ***\n",
      "object\n",
      "32\n",
      "----------------\n",
      "*** pain ***\n",
      "object\n",
      "55\n",
      "----------------\n",
      "*** peristalsis ***\n",
      "object\n",
      "44\n",
      "----------------\n",
      "*** abdominal_distention ***\n",
      "object\n",
      "56\n",
      "----------------\n",
      "*** nasogastric_tube ***\n",
      "object\n",
      "104\n",
      "----------------\n",
      "*** nasogastric_reflux ***\n",
      "object\n",
      "106\n",
      "----------------\n",
      "*** rectal_exam_feces ***\n",
      "object\n",
      "102\n",
      "----------------\n",
      "*** abdomen ***\n",
      "object\n",
      "118\n",
      "----------------\n",
      "*** abdomo_appearance ***\n",
      "object\n",
      "165\n",
      "----------------\n"
     ]
    }
   ],
   "source": [
    "for i in horse_df.columns:\n",
    "    if horse_df[i].hasnans:\n",
    "        if horse_df[i].dtype == \"object\":\n",
    "            print(\"***\",i,\"***\")\n",
    "            print(horse_df[i].dtype)\n",
    "            print(horse_df[i].isnull().sum())        \n",
    "            print(\"----------------\")"
   ]
  },
  {
   "cell_type": "code",
   "execution_count": 12,
   "metadata": {},
   "outputs": [
    {
     "name": "stdout",
     "output_type": "stream",
     "text": [
      "*** nasogastric_reflux_ph ***\n",
      "float64\n",
      "246\n",
      "----------------\n",
      "*** abdomo_appearance ***\n",
      "object\n",
      "165\n",
      "----------------\n",
      "*** abdomo_protein ***\n",
      "float64\n",
      "198\n",
      "----------------\n"
     ]
    }
   ],
   "source": [
    "for i in horse_df.columns:\n",
    "    if horse_df[i].hasnans:\n",
    "        if horse_df[i].isnull().sum() >= 150:\n",
    "            print(\"***\",i,\"***\")\n",
    "            print(horse_df[i].dtype)\n",
    "            print(horse_df[i].isnull().sum())        \n",
    "            print(\"----------------\")"
   ]
  },
  {
   "cell_type": "code",
   "execution_count": 13,
   "metadata": {},
   "outputs": [
    {
     "data": {
      "text/plain": [
       "28"
      ]
     },
     "execution_count": 13,
     "metadata": {},
     "output_type": "execute_result"
    }
   ],
   "source": [
    "horse_df.shape[1]"
   ]
  },
  {
   "cell_type": "markdown",
   "metadata": {},
   "source": [
    "- From above, we infer that the columns- \"nasogastric_reflux_ph \",\"abdomo_appearance\" and \"abdomo_protein\" contain null values of about more than 50% of the total number records.\n",
    "- Hence, we remove these columns from further analysis."
   ]
  },
  {
   "cell_type": "code",
   "execution_count": 14,
   "metadata": {},
   "outputs": [
    {
     "data": {
      "text/plain": [
       "(299, 25)"
      ]
     },
     "execution_count": 14,
     "metadata": {},
     "output_type": "execute_result"
    }
   ],
   "source": [
    "horse_df_new = horse_df.drop([\"nasogastric_reflux_ph\",\"abdomo_appearance\",\"abdomo_protein\"],axis=1)\n",
    "horse_df_new.shape"
   ]
  },
  {
   "cell_type": "markdown",
   "metadata": {},
   "source": [
    "**Let us impute the null values in the numerical columns**"
   ]
  },
  {
   "cell_type": "code",
   "execution_count": 20,
   "metadata": {},
   "outputs": [
    {
     "data": {
      "text/plain": [
       "38.168619246861994"
      ]
     },
     "execution_count": 20,
     "metadata": {},
     "output_type": "execute_result"
    }
   ],
   "source": [
    "horse_df_new.rectal_temp.mean()"
   ]
  },
  {
   "cell_type": "code",
   "execution_count": 15,
   "metadata": {},
   "outputs": [
    {
     "name": "stdout",
     "output_type": "stream",
     "text": [
      "*** rectal_temp ***\n",
      "0\n",
      "-------------------------\n",
      "*** pulse ***\n",
      "0\n",
      "-------------------------\n",
      "*** respiratory_rate ***\n",
      "0\n",
      "-------------------------\n",
      "*** packed_cell_volume ***\n",
      "0\n",
      "-------------------------\n",
      "*** total_protein ***\n",
      "0\n",
      "-------------------------\n"
     ]
    }
   ],
   "source": [
    "for i in horse_df_new.columns:\n",
    "    if horse_df_new[i].hasnans:\n",
    "        if horse_df_new[i].dtype == \"float64\":\n",
    "            horse_df_new[i].fillna(horse_df_new[i].mean(),inplace=True)\n",
    "            print(\"***\",i,\"***\")\n",
    "            print(horse_df_new[i].isnull().sum())\n",
    "            print(\"-------------------------\")"
   ]
  },
  {
   "cell_type": "markdown",
   "metadata": {},
   "source": [
    "**Let us impute the null values in the categorical columns**"
   ]
  },
  {
   "cell_type": "code",
   "execution_count": 18,
   "metadata": {},
   "outputs": [
    {
     "data": {
      "text/plain": [
       "0    cool\n",
       "dtype: object"
      ]
     },
     "execution_count": 18,
     "metadata": {},
     "output_type": "execute_result"
    }
   ],
   "source": [
    "horse_df_new.temp_of_extremities.mode()"
   ]
  },
  {
   "cell_type": "code",
   "execution_count": 19,
   "metadata": {},
   "outputs": [
    {
     "data": {
      "text/plain": [
       "'cool'"
      ]
     },
     "execution_count": 19,
     "metadata": {},
     "output_type": "execute_result"
    }
   ],
   "source": [
    "horse_df_new.temp_of_extremities.mode()[0]"
   ]
  },
  {
   "cell_type": "code",
   "execution_count": 21,
   "metadata": {},
   "outputs": [
    {
     "name": "stdout",
     "output_type": "stream",
     "text": [
      "*** temp_of_extremities ***\n",
      "0\n",
      "-------------------------\n",
      "*** peripheral_pulse ***\n",
      "0\n",
      "-------------------------\n",
      "*** mucous_membrane ***\n",
      "0\n",
      "-------------------------\n",
      "*** capillary_refill_time ***\n",
      "0\n",
      "-------------------------\n",
      "*** pain ***\n",
      "0\n",
      "-------------------------\n",
      "*** peristalsis ***\n",
      "0\n",
      "-------------------------\n",
      "*** abdominal_distention ***\n",
      "0\n",
      "-------------------------\n",
      "*** nasogastric_tube ***\n",
      "0\n",
      "-------------------------\n",
      "*** nasogastric_reflux ***\n",
      "0\n",
      "-------------------------\n",
      "*** rectal_exam_feces ***\n",
      "0\n",
      "-------------------------\n",
      "*** abdomen ***\n",
      "0\n",
      "-------------------------\n"
     ]
    }
   ],
   "source": [
    "for i in horse_df_new.columns:\n",
    "    if horse_df_new[i].hasnans:\n",
    "        if horse_df_new[i].dtype == \"object\":\n",
    "            horse_df_new[i].fillna(horse_df_new[i].mode()[0],inplace=True)\n",
    "            print(\"***\",i,\"***\")\n",
    "            print(horse_df_new[i].isnull().sum())\n",
    "            print(\"-------------------------\")"
   ]
  },
  {
   "cell_type": "code",
   "execution_count": 22,
   "metadata": {},
   "outputs": [
    {
     "data": {
      "text/plain": [
       "surgery                  0\n",
       "age                      0\n",
       "hospital_number          0\n",
       "rectal_temp              0\n",
       "pulse                    0\n",
       "respiratory_rate         0\n",
       "temp_of_extremities      0\n",
       "peripheral_pulse         0\n",
       "mucous_membrane          0\n",
       "capillary_refill_time    0\n",
       "pain                     0\n",
       "peristalsis              0\n",
       "abdominal_distention     0\n",
       "nasogastric_tube         0\n",
       "nasogastric_reflux       0\n",
       "rectal_exam_feces        0\n",
       "abdomen                  0\n",
       "packed_cell_volume       0\n",
       "total_protein            0\n",
       "outcome                  0\n",
       "surgical_lesion          0\n",
       "lesion_1                 0\n",
       "lesion_2                 0\n",
       "lesion_3                 0\n",
       "cp_data                  0\n",
       "dtype: int64"
      ]
     },
     "execution_count": 22,
     "metadata": {},
     "output_type": "execute_result"
    }
   ],
   "source": [
    "horse_df_new.isnull().sum()"
   ]
  },
  {
   "cell_type": "markdown",
   "metadata": {},
   "source": [
    "From above, we can infer that the null values present in all the columns have been imputated with the appropriate values. "
   ]
  },
  {
   "cell_type": "markdown",
   "metadata": {},
   "source": [
    "**Check the class distribution in the Output column**"
   ]
  },
  {
   "cell_type": "code",
   "execution_count": 23,
   "metadata": {},
   "outputs": [
    {
     "data": {
      "text/plain": [
       "lived         178\n",
       "died           77\n",
       "euthanized     44\n",
       "Name: outcome, dtype: int64"
      ]
     },
     "execution_count": 23,
     "metadata": {},
     "output_type": "execute_result"
    }
   ],
   "source": [
    "horse_df_new.outcome.value_counts()"
   ]
  },
  {
   "cell_type": "code",
   "execution_count": 24,
   "metadata": {},
   "outputs": [
    {
     "data": {
      "text/plain": [
       "<matplotlib.axes._subplots.AxesSubplot at 0x1f4d5030a08>"
      ]
     },
     "execution_count": 24,
     "metadata": {},
     "output_type": "execute_result"
    },
    {
     "data": {
      "image/png": "[encoded data removed]",
      "text/plain": [
       "<Figure size 432x288 with 1 Axes>"
      ]
     },
     "metadata": {
      "needs_background": "light"
     },
     "output_type": "display_data"
    }
   ],
   "source": [
    "horse_df_new.outcome.value_counts().plot.bar()"
   ]
  },
  {
   "cell_type": "markdown",
   "metadata": {},
   "source": [
    "From above, we can infer that there is a class imbalance in the \"Outcome\" column."
   ]
  },
  {
   "cell_type": "markdown",
   "metadata": {},
   "source": [
    "**Let us encode all the categorical columns in our dataset**\n",
    "- we use OHE to encode all the categorical features\n",
    "- we use Label encoder to encode all the categorical output column"
   ]
  },
  {
   "cell_type": "code",
   "execution_count": 26,
   "metadata": {},
   "outputs": [],
   "source": [
    "# Split our dataset into X & y\n",
    "\n",
    "X = horse_df_new.drop(\"outcome\", axis=1)\n",
    "y = horse_df_new.outcome"
   ]
  },
  {
   "cell_type": "code",
   "execution_count": 27,
   "metadata": {},
   "outputs": [
    {
     "data": {
      "text/plain": [
       "(299, 24)"
      ]
     },
     "execution_count": 27,
     "metadata": {},
     "output_type": "execute_result"
    }
   ],
   "source": [
    "X.shape"
   ]
  },
  {
   "cell_type": "code",
   "execution_count": 28,
   "metadata": {},
   "outputs": [
    {
     "data": {
      "text/plain": [
       "(299, 62)"
      ]
     },
     "execution_count": 28,
     "metadata": {},
     "output_type": "execute_result"
    }
   ],
   "source": [
    "# One Hot Encoding the categorical features\n",
    "X_encoded = pd.get_dummies(X)\n",
    "X_encoded.shape"
   ]
  },
  {
   "cell_type": "code",
   "execution_count": 31,
   "metadata": {},
   "outputs": [
    {
     "data": {
      "text/html": [
       "<div>\n",
       "<style scoped>\n",
       "    .dataframe tbody tr th:only-of-type {\n",
       "        vertical-align: middle;\n",
       "    }\n",
       "\n",
       "    .dataframe tbody tr th {\n",
       "        vertical-align: top;\n",
       "    }\n",
       "\n",
       "    .dataframe thead th {\n",
       "        text-align: right;\n",
       "    }\n",
       "</style>\n",
       "<table border=\"1\" class=\"dataframe\">\n",
       "  <thead>\n",
       "    <tr style=\"text-align: right;\">\n",
       "      <th></th>\n",
       "      <th>hospital_number</th>\n",
       "      <th>rectal_temp</th>\n",
       "      <th>pulse</th>\n",
       "      <th>respiratory_rate</th>\n",
       "      <th>packed_cell_volume</th>\n",
       "      <th>total_protein</th>\n",
       "      <th>lesion_1</th>\n",
       "      <th>lesion_2</th>\n",
       "      <th>lesion_3</th>\n",
       "      <th>surgery_no</th>\n",
       "      <th>...</th>\n",
       "      <th>rectal_exam_feces_normal</th>\n",
       "      <th>abdomen_distend_large</th>\n",
       "      <th>abdomen_distend_small</th>\n",
       "      <th>abdomen_firm</th>\n",
       "      <th>abdomen_normal</th>\n",
       "      <th>abdomen_other</th>\n",
       "      <th>surgical_lesion_no</th>\n",
       "      <th>surgical_lesion_yes</th>\n",
       "      <th>cp_data_no</th>\n",
       "      <th>cp_data_yes</th>\n",
       "    </tr>\n",
       "  </thead>\n",
       "  <tbody>\n",
       "    <tr>\n",
       "      <td>0</td>\n",
       "      <td>530101</td>\n",
       "      <td>38.5</td>\n",
       "      <td>66.0</td>\n",
       "      <td>28.0</td>\n",
       "      <td>45.0</td>\n",
       "      <td>8.4</td>\n",
       "      <td>11300</td>\n",
       "      <td>0</td>\n",
       "      <td>0</td>\n",
       "      <td>1</td>\n",
       "      <td>...</td>\n",
       "      <td>0</td>\n",
       "      <td>1</td>\n",
       "      <td>0</td>\n",
       "      <td>0</td>\n",
       "      <td>0</td>\n",
       "      <td>0</td>\n",
       "      <td>1</td>\n",
       "      <td>0</td>\n",
       "      <td>1</td>\n",
       "      <td>0</td>\n",
       "    </tr>\n",
       "    <tr>\n",
       "      <td>1</td>\n",
       "      <td>534817</td>\n",
       "      <td>39.2</td>\n",
       "      <td>88.0</td>\n",
       "      <td>20.0</td>\n",
       "      <td>50.0</td>\n",
       "      <td>85.0</td>\n",
       "      <td>2208</td>\n",
       "      <td>0</td>\n",
       "      <td>0</td>\n",
       "      <td>0</td>\n",
       "      <td>...</td>\n",
       "      <td>0</td>\n",
       "      <td>0</td>\n",
       "      <td>0</td>\n",
       "      <td>0</td>\n",
       "      <td>0</td>\n",
       "      <td>1</td>\n",
       "      <td>1</td>\n",
       "      <td>0</td>\n",
       "      <td>1</td>\n",
       "      <td>0</td>\n",
       "    </tr>\n",
       "    <tr>\n",
       "      <td>2</td>\n",
       "      <td>530334</td>\n",
       "      <td>38.3</td>\n",
       "      <td>40.0</td>\n",
       "      <td>24.0</td>\n",
       "      <td>33.0</td>\n",
       "      <td>6.7</td>\n",
       "      <td>0</td>\n",
       "      <td>0</td>\n",
       "      <td>0</td>\n",
       "      <td>1</td>\n",
       "      <td>...</td>\n",
       "      <td>1</td>\n",
       "      <td>0</td>\n",
       "      <td>0</td>\n",
       "      <td>0</td>\n",
       "      <td>1</td>\n",
       "      <td>0</td>\n",
       "      <td>1</td>\n",
       "      <td>0</td>\n",
       "      <td>0</td>\n",
       "      <td>1</td>\n",
       "    </tr>\n",
       "    <tr>\n",
       "      <td>3</td>\n",
       "      <td>5290409</td>\n",
       "      <td>39.1</td>\n",
       "      <td>164.0</td>\n",
       "      <td>84.0</td>\n",
       "      <td>48.0</td>\n",
       "      <td>7.2</td>\n",
       "      <td>2208</td>\n",
       "      <td>0</td>\n",
       "      <td>0</td>\n",
       "      <td>0</td>\n",
       "      <td>...</td>\n",
       "      <td>0</td>\n",
       "      <td>1</td>\n",
       "      <td>0</td>\n",
       "      <td>0</td>\n",
       "      <td>0</td>\n",
       "      <td>0</td>\n",
       "      <td>0</td>\n",
       "      <td>1</td>\n",
       "      <td>0</td>\n",
       "      <td>1</td>\n",
       "    </tr>\n",
       "    <tr>\n",
       "      <td>4</td>\n",
       "      <td>530255</td>\n",
       "      <td>37.3</td>\n",
       "      <td>104.0</td>\n",
       "      <td>35.0</td>\n",
       "      <td>74.0</td>\n",
       "      <td>7.4</td>\n",
       "      <td>4300</td>\n",
       "      <td>0</td>\n",
       "      <td>0</td>\n",
       "      <td>1</td>\n",
       "      <td>...</td>\n",
       "      <td>0</td>\n",
       "      <td>1</td>\n",
       "      <td>0</td>\n",
       "      <td>0</td>\n",
       "      <td>0</td>\n",
       "      <td>0</td>\n",
       "      <td>1</td>\n",
       "      <td>0</td>\n",
       "      <td>1</td>\n",
       "      <td>0</td>\n",
       "    </tr>\n",
       "  </tbody>\n",
       "</table>\n",
       "<p>5 rows × 62 columns</p>\n",
       "</div>"
      ],
      "text/plain": [
       "   hospital_number  rectal_temp  pulse  respiratory_rate  packed_cell_volume  \\\n",
       "0           530101         38.5   66.0              28.0                45.0   \n",
       "1           534817         39.2   88.0              20.0                50.0   \n",
       "2           530334         38.3   40.0              24.0                33.0   \n",
       "3          5290409         39.1  164.0              84.0                48.0   \n",
       "4           530255         37.3  104.0              35.0                74.0   \n",
       "\n",
       "   total_protein  lesion_1  lesion_2  lesion_3  surgery_no  ...  \\\n",
       "0            8.4     11300         0         0           1  ...   \n",
       "1           85.0      2208         0         0           0  ...   \n",
       "2            6.7         0         0         0           1  ...   \n",
       "3            7.2      2208         0         0           0  ...   \n",
       "4            7.4      4300         0         0           1  ...   \n",
       "\n",
       "   rectal_exam_feces_normal  abdomen_distend_large  abdomen_distend_small  \\\n",
       "0                         0                      1                      0   \n",
       "1                         0                      0                      0   \n",
       "2                         1                      0                      0   \n",
       "3                         0                      1                      0   \n",
       "4                         0                      1                      0   \n",
       "\n",
       "   abdomen_firm  abdomen_normal  abdomen_other  surgical_lesion_no  \\\n",
       "0             0               0              0                   1   \n",
       "1             0               0              1                   1   \n",
       "2             0               1              0                   1   \n",
       "3             0               0              0                   0   \n",
       "4             0               0              0                   1   \n",
       "\n",
       "   surgical_lesion_yes  cp_data_no  cp_data_yes  \n",
       "0                    0           1            0  \n",
       "1                    0           1            0  \n",
       "2                    0           0            1  \n",
       "3                    1           0            1  \n",
       "4                    0           1            0  \n",
       "\n",
       "[5 rows x 62 columns]"
      ]
     },
     "execution_count": 31,
     "metadata": {},
     "output_type": "execute_result"
    }
   ],
   "source": [
    "X_encoded.head(5)"
   ]
  },
  {
   "cell_type": "code",
   "execution_count": 32,
   "metadata": {},
   "outputs": [],
   "source": [
    "# Label Encode our target column\n",
    "from sklearn.preprocessing import LabelEncoder "
   ]
  },
  {
   "cell_type": "code",
   "execution_count": 33,
   "metadata": {},
   "outputs": [
    {
     "name": "stdout",
     "output_type": "stream",
     "text": [
      "[0 1 2 0 0 2 2 0 1 2 2 2 2 0 2 0 0 2 2 2 2 2 2 2 2 2 2 2 0 2 0 1 2 2 2 1 1\n",
      " 2 2 0 0 2 2 1 1 0 2 2 0 0 2 0 2 2 1 0 2 0 0 0 2 2 0 1 2 2 2 2 2 2 1 2 0 0\n",
      " 0 1 2 2 0 2 0 2 2 0 2 2 0 1 2 2 2 0 2 0 2 2 2 1 2 2 2 1 2 2 0 2 2 2 1 0 0\n",
      " 2 2 0 2 2 2 1 2 2 2 1 2 0 1 2 2 2 1 2 0 0 2 0 0 0 2 2 2 2 0 0 2 1 2 2 0 2\n",
      " 2 2 0 2 2 2 2 2 1 2 2 2 0 2 1 2 1 2 2 2 1 2 0 2 0 0 2 2 0 2 1 0 2 0 2 2 2\n",
      " 2 2 2 2 2 2 2 0 2 2 1 0 2 2 2 0 1 2 2 1 2 0 1 2 0 0 2 2 2 2 2 2 1 2 1 2 2\n",
      " 2 2 2 0 2 1 2 2 0 2 2 2 0 2 2 1 1 0 2 0 2 2 0 2 0 2 2 1 0 0 2 2 0 1 0 2 0\n",
      " 2 2 2 0 2 1 2 2 2 2 0 2 2 0 1 0 1 2 2 2 2 0 0 2 2 2 1 2 2 2 2 0 0 1 2 1 1\n",
      " 0 2 1]\n"
     ]
    }
   ],
   "source": [
    "horse_outcome_encoder = LabelEncoder() # instantiating the Label Encoder object\n",
    "\n",
    "y_encoded = horse_outcome_encoder.fit_transform(y)\n",
    "\n",
    "print(y_encoded)"
   ]
  },
  {
   "cell_type": "markdown",
   "metadata": {},
   "source": [
    "We can infer from the principles of a label encoder that\n",
    "- 0 - dies\n",
    "- 1 - euthanized\n",
    "- 2 - lived"
   ]
  },
  {
   "cell_type": "markdown",
   "metadata": {},
   "source": [
    "**SMOTE - Synthetic Minority Oversampling Technique**\n"
   ]
  },
  {
   "cell_type": "markdown",
   "metadata": {},
   "source": [
    "Oversampling - More data points for the classes with the lesser representation are synthetically(statistically) created using oversampling techniques like SMOTE."
   ]
  },
  {
   "cell_type": "markdown",
   "metadata": {},
   "source": [
    "Use the below command to install the imblearn library\n",
    "- !pip install imbalanced-learn"
   ]
  },
  {
   "cell_type": "code",
   "execution_count": 25,
   "metadata": {},
   "outputs": [
    {
     "name": "stdout",
     "output_type": "stream",
     "text": [
      "0.7.0\n"
     ]
    }
   ],
   "source": [
    "import imblearn\n",
    "print(imblearn.__version__)"
   ]
  },
  {
   "cell_type": "code",
   "execution_count": 34,
   "metadata": {},
   "outputs": [],
   "source": [
    "from imblearn.over_sampling import SMOTE"
   ]
  },
  {
   "cell_type": "code",
   "execution_count": 35,
   "metadata": {},
   "outputs": [],
   "source": [
    "oversampler = SMOTE() # instantiating the object for SMOTE method\n",
    "X_smote, y_smote = oversampler.fit_resample(X_encoded,y_encoded) #always pass both the X & y values"
   ]
  },
  {
   "cell_type": "code",
   "execution_count": 36,
   "metadata": {},
   "outputs": [
    {
     "name": "stdout",
     "output_type": "stream",
     "text": [
      "Before oversampling, the total number of datapoints were:\n",
      "299\n",
      "After oversampling, the total number of datapoints were:\n",
      "534\n"
     ]
    }
   ],
   "source": [
    "print(\"Before oversampling, the total number of datapoints were:\")\n",
    "print(X_encoded.shape[0])\n",
    "print(\"After oversampling, the total number of datapoints were:\")\n",
    "print(X_smote.shape[0])"
   ]
  },
  {
   "cell_type": "code",
   "execution_count": 38,
   "metadata": {},
   "outputs": [
    {
     "data": {
      "text/plain": [
       "2    178\n",
       "0     77\n",
       "1     44\n",
       "dtype: int64"
      ]
     },
     "execution_count": 38,
     "metadata": {},
     "output_type": "execute_result"
    }
   ],
   "source": [
    "pd.Series(y_encoded).value_counts()"
   ]
  },
  {
   "cell_type": "code",
   "execution_count": 39,
   "metadata": {},
   "outputs": [
    {
     "data": {
      "text/plain": [
       "2    178\n",
       "1    178\n",
       "0    178\n",
       "dtype: int64"
      ]
     },
     "execution_count": 39,
     "metadata": {},
     "output_type": "execute_result"
    }
   ],
   "source": [
    "pd.Series(y_smote).value_counts()"
   ]
  },
  {
   "cell_type": "markdown",
   "metadata": {},
   "source": [
    "From above, we can infer that the problem of imbalanced class representation in the dataset has been fixed."
   ]
  },
  {
   "cell_type": "markdown",
   "metadata": {},
   "source": [
    "**Split the dataset into train and test sets**"
   ]
  },
  {
   "cell_type": "code",
   "execution_count": 40,
   "metadata": {},
   "outputs": [],
   "source": [
    "X_train, X_test, y_train, y_test = train_test_split(X_smote,y_smote, test_size=0.3, random_state= 5)"
   ]
  },
  {
   "cell_type": "code",
   "execution_count": 41,
   "metadata": {},
   "outputs": [
    {
     "name": "stdout",
     "output_type": "stream",
     "text": [
      "No. of data points in the training dataset is 373\n",
      "No. of data points in the testing dataset is 161\n"
     ]
    }
   ],
   "source": [
    "print(\"No. of data points in the training dataset is\", X_train.shape[0])\n",
    "print(\"No. of data points in the testing dataset is\",X_test.shape[0])"
   ]
  },
  {
   "cell_type": "code",
   "execution_count": 42,
   "metadata": {},
   "outputs": [],
   "source": [
    "from sklearn.ensemble import RandomForestClassifier"
   ]
  },
  {
   "cell_type": "code",
   "execution_count": 43,
   "metadata": {},
   "outputs": [
    {
     "data": {
      "text/plain": [
       "RandomForestClassifier(n_estimators=110)"
      ]
     },
     "execution_count": 43,
     "metadata": {},
     "output_type": "execute_result"
    }
   ],
   "source": [
    "rfc_model = RandomForestClassifier(n_estimators=110)\n",
    "rfc_model.fit(X_train,y_train)"
   ]
  },
  {
   "cell_type": "code",
   "execution_count": 44,
   "metadata": {},
   "outputs": [],
   "source": [
    "y_test_pred_rfc = rfc_model.predict(X_test)\n",
    "y_train_pred_rfc = rfc_model.predict(X_train)"
   ]
  },
  {
   "cell_type": "markdown",
   "metadata": {},
   "source": [
    "**Evaluating our Knn model**"
   ]
  },
  {
   "cell_type": "code",
   "execution_count": 45,
   "metadata": {},
   "outputs": [
    {
     "name": "stdout",
     "output_type": "stream",
     "text": [
      "The accuracy score of the RFC model on the test dataset is 0.8881987577639752\n"
     ]
    }
   ],
   "source": [
    "print(\"The accuracy score of the RFC model on the test dataset is\", accuracy_score(y_test,y_test_pred_rfc))"
   ]
  },
  {
   "cell_type": "code",
   "execution_count": 47,
   "metadata": {},
   "outputs": [
    {
     "name": "stdout",
     "output_type": "stream",
     "text": [
      "The accuracy score of the RFC model on the train dataset is 1.0\n"
     ]
    }
   ],
   "source": [
    "print(\"The accuracy score of the RFC model on the train dataset is\", accuracy_score(y_train,y_train_pred_rfc))"
   ]
  },
  {
   "cell_type": "markdown",
   "metadata": {},
   "source": [
    "**After class assignment**\n",
    "- 1. Experiment with building the RFC model directly with the X_encoded and y_encoded data (i.e) without oversampling and write down your observations.\n",
    "- 2. Experiment with different values for the n_estimators parameter and write down your observations on RFC model performance."
   ]
  },
  {
   "cell_type": "markdown",
   "metadata": {},
   "source": [
    "# End of discussion"
   ]
  }
 ],
 "metadata": {
  "kernelspec": {
   "display_name": "Python 3",
   "language": "python",
   "name": "python3"
  },
  "language_info": {
   "codemirror_mode": {
    "name": "ipython",
    "version": 3
   },
   "file_extension": ".py",
   "mimetype": "text/x-python",
   "name": "python",
   "nbconvert_exporter": "python",
   "pygments_lexer": "ipython3",
   "version": "3.7.4"
  }
 },
 "nbformat": 4,
 "nbformat_minor": 2
}
