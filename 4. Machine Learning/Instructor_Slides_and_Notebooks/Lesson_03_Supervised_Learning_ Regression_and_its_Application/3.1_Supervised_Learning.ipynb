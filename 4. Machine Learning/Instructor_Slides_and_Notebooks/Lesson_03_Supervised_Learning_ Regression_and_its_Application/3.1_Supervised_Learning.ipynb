{
  "cells": [
    {
      "cell_type": "markdown",
      "id": "1f0d3e19",
      "metadata": {
        "id": "1f0d3e19"
      },
      "source": [
        "# **3.1 Supervised Learning**"
      ]
    },
    {
      "cell_type": "markdown",
      "id": "9c632b32",
      "metadata": {
        "id": "9c632b32"
      },
      "source": [
        "## __Agenda__"
      ]
    },
    {
      "cell_type": "markdown",
      "id": "59aa60e2",
      "metadata": {
        "id": "59aa60e2"
      },
      "source": [
        "\n",
        "*   Introduction to Supervised Learning\n",
        "*   Supervised Learning Categories\n",
        "*   Classification\n",
        "*   Regression\n",
        "*   Applications of Supervised Learning\n",
        "*   Supervised Learning algorithm\n",
        "    *   Linear Regression\n",
        "    *   Logistic Regression\n",
        "    *   Naïve Bayes\n",
        "    *   K-Nearest Neighbors (KNN)\n",
        "    *   Decision Trees\n",
        "    *   Random Forests\n",
        "    *   Support Vector Machines (SVM)"
      ]
    },
    {
      "cell_type": "markdown",
      "id": "a3705421",
      "metadata": {
        "id": "a3705421"
      },
      "source": [
        "## __3.1.1 Introduction to Supervised Learning__"
      ]
    },
    {
      "cell_type": "markdown",
      "id": "37d8e40c",
      "metadata": {
        "id": "37d8e40c"
      },
      "source": [
        "Supervised learning is a type of machine learning where the algorithm learns from labeled data, consisting of input-output pairs. In supervised learning, you train the algorithm on a dataset that includes input features and corresponding correct output labels. The goal is for the algorithm to learn the mapping or relationship between the input features and the output labels. This enables it to make predictions or decisions on new, unseen data."
      ]
    },
    {
      "cell_type": "markdown",
      "id": "f54af779",
      "metadata": {
        "id": "f54af779"
      },
      "source": [
        "## __3.1.2 Supervised Learning Categories__"
      ]
    },
    {
      "cell_type": "markdown",
      "id": "58190838",
      "metadata": {
        "id": "58190838"
      },
      "source": [
        "There are two categories of supervised learning based on the type of target variable:"
      ]
    },
    {
      "cell_type": "markdown",
      "id": "c0a9ef00",
      "metadata": {
        "id": "c0a9ef00"
      },
      "source": [
        "- Regression"
      ]
    },
    {
      "cell_type": "markdown",
      "id": "379e3e54",
      "metadata": {
        "id": "379e3e54"
      },
      "source": [
        "- Classification"
      ]
    },
    {
      "cell_type": "markdown",
      "source": [
        "![link text](https://labcontent.simplicdn.net/data-content/content-assets/Data_and_AI/ML/updated/Lesson_03/Image_1.png)"
      ],
      "metadata": {
        "id": "DhxT5XDKEozO"
      },
      "id": "DhxT5XDKEozO"
    },
    {
      "cell_type": "markdown",
      "id": "d4e3d649",
      "metadata": {
        "id": "d4e3d649"
      },
      "source": [
        "## __3.1.3 Classification__"
      ]
    },
    {
      "cell_type": "markdown",
      "id": "df12f228",
      "metadata": {
        "id": "df12f228"
      },
      "source": [
        "When the target variable is categorical, the prediction task is classification. For instance, predicting whether an email is spam based on its content, sender information, and subject line. Think of it like sorting mail into different boxes labeled 'spam' and 'not spam.'"
      ]
    },
    {
      "cell_type": "markdown",
      "id": "adece7ff",
      "metadata": {
        "id": "adece7ff"
      },
      "source": [
        "## __3.1.4 Regression__"
      ]
    },
    {
      "cell_type": "markdown",
      "id": "3620a81e",
      "metadata": {
        "id": "3620a81e"
      },
      "source": [
        "When the target variable is continuous, the prediction task is regression. For example, estimating the price of a house given its location, size, number of bedrooms, and age. Imagine you are trying to predict the price of a house based on various features, similar to how a real estate agent would appraise a property."
      ]
    },
    {
      "cell_type": "markdown",
      "id": "b9a52645",
      "metadata": {
        "id": "b9a52645"
      },
      "source": [
        "__Let's understand the difference between regression and classification with the use case below:__\n",
        "\n",
        "![link text](https://labcontent.simplicdn.net/data-content/content-assets/Data_and_AI/ML/updated/Lesson_03/Image_2.png)"
      ]
    },
    {
      "cell_type": "markdown",
      "source": [
        "**Regression:**\n",
        "\n",
        "*  **Purpose:** Predict a continuous value.\n",
        "\n",
        "*  **Example:** Predicting the exact temperature for tomorrow.\n",
        "\n",
        "*  **Visualization:** A thermometer scale ranging from -50°F to 170°F with an indicator pointing to 84°F.\n",
        "\n",
        "*  **Question Addressed:** \"What will be the temperature tomorrow?\"\n",
        "\n",
        "*  **Output:** A specific temperature value (e.g., 84°F).\n",
        "\n",
        "\n",
        "**Classification**:\n",
        "\n",
        "*   **Purpose:** Predict a categorical outcome.\n",
        "\n",
        "*   **Example:** Determining whether tomorrow will be hot or cold.\n",
        "\n",
        "*   **Visualization:** The same thermometer scale divided into two colored regions: blue for \"cold\" and red for \"hot,\" with a threshold separating them.\n",
        "\n",
        "*   **Question Addressed:** \"Will it be hot or cold tomorrow?\"\n",
        "\n",
        "*   **Output**: A category (e.g., \"cold\" or \"hot\")."
      ],
      "metadata": {
        "id": "_sLn_IECGIMM"
      },
      "id": "_sLn_IECGIMM"
    },
    {
      "cell_type": "markdown",
      "id": "afea08a9",
      "metadata": {
        "id": "afea08a9"
      },
      "source": [
        "## __3.1.5 Applications of Supervised Learning__"
      ]
    },
    {
      "cell_type": "markdown",
      "id": "34fe1270",
      "metadata": {
        "id": "34fe1270"
      },
      "source": [
        "Supervised learning can optimize and automate processes across industries. It enhances decision-making, reduces manual effort, and enables more accurate predictions."
      ]
    },
    {
      "cell_type": "markdown",
      "id": "8394bd9a",
      "metadata": {
        "id": "8394bd9a"
      },
      "source": [
        "1. **HR Operations**: Imagine you are a recruiter tasked with finding the best candidates for job vacancies. Supervised learning can help by shortlisting resumes based on accepted or rejected candidate profiles. This improves its ability to recommend similar profiles in the future, much like how Netflix recommends movies based on your viewing history."
      ]
    },
    {
      "cell_type": "markdown",
      "id": "3762e195",
      "metadata": {
        "id": "3762e195"
      },
      "source": [
        "2. **Finance**: In the finance industry, supervised learning can automate loan approval and improve loan risk assessment. By using historical loan data to train a model, it can predict the likelihood of a loan being repaid. This is similar to how a credit card company determines your creditworthiness before issuing a card."
      ]
    },
    {
      "cell_type": "markdown",
      "id": "9286877e",
      "metadata": {
        "id": "9286877e"
      },
      "source": [
        "3. **Emails**: Think about the spam filter in your email. It uses supervised learning to distinguish between spam and non-spam emails. By training on labeled examples of spam and non-spam emails, the model learns to predict whether new, unseen emails are spam."
      ]
    },
    {
      "cell_type": "markdown",
      "id": "18dd1547",
      "metadata": {
        "id": "18dd1547"
      },
      "source": [
        "4. **Manufacturing**: In manufacturing, supervised learning is used to inspect quality and classify products into different grades. For example, a factory might use a machine learning model to check for defects in products and ensure they meet quality standards, much like a quality control inspector."
      ]
    },
    {
      "cell_type": "markdown",
      "id": "d84a8d90",
      "metadata": {
        "id": "d84a8d90"
      },
      "source": [
        "5. **Maritime Industry**: In the maritime industry, forecasting combines historical events and weather conditions to develop precautionary incident management. A supervised learning technique like regression model can use past data to predict tidal currents and forecast demand and supply, reducing inventory losses. Think of it like how a weather forecast predicts rain based on past weather patterns."
      ]
    },
    {
      "cell_type": "markdown",
      "id": "1cdae6d9",
      "metadata": {
        "id": "1cdae6d9"
      },
      "source": [
        "6. **Fraud Protection**: Supervised learning models help detect and prevent fraud. For example, to predict fraudulent activities in financial transactions, cyber attacks on servers, and fake social media profiles, the model learns from past instances of fraud. This is akin to a detective learning from previous cases to spot new crimes."
      ]
    },
    {
      "cell_type": "markdown",
      "id": "27646a39",
      "metadata": {
        "id": "27646a39"
      },
      "source": [
        "## __3.1.6 Supervised Learning Algorithm__"
      ]
    },
    {
      "cell_type": "markdown",
      "id": "3a524a0e",
      "metadata": {
        "id": "3a524a0e"
      },
      "source": [
        "An algorithm refers to the specific method or approach used to train a model on data.\n",
        "- Machine learning algorithms can be divided into several categories based on their learning style, purpose, and the type of problem they are designed to solve.\n",
        "- In supervised learning, the algorithm is trained on labeled data. It learns to map input features to known outputs and make predictions on new, unseen data."
      ]
    },
    {
      "cell_type": "markdown",
      "id": "376d961e",
      "metadata": {
        "id": "376d961e"
      },
      "source": [
        "**Below are some commonly used supervised learning algorithms:**"
      ]
    },
    {
      "cell_type": "markdown",
      "id": "a58c55e3",
      "metadata": {
        "id": "a58c55e3"
      },
      "source": [
        "- Linear Regression"
      ]
    },
    {
      "cell_type": "markdown",
      "id": "db586a7f",
      "metadata": {
        "id": "db586a7f"
      },
      "source": [
        "- Logistic Regression"
      ]
    },
    {
      "cell_type": "markdown",
      "id": "9312c025",
      "metadata": {
        "id": "9312c025"
      },
      "source": [
        "- Naïve Bayes"
      ]
    },
    {
      "cell_type": "markdown",
      "id": "ce6b4d74",
      "metadata": {
        "id": "ce6b4d74"
      },
      "source": [
        "- K-Nearest Neighbors (KNN)"
      ]
    },
    {
      "cell_type": "markdown",
      "id": "4af9104a",
      "metadata": {
        "id": "4af9104a"
      },
      "source": [
        "- Decision Trees"
      ]
    },
    {
      "cell_type": "markdown",
      "id": "df847adb",
      "metadata": {
        "id": "df847adb"
      },
      "source": [
        "- Random Forests"
      ]
    },
    {
      "cell_type": "markdown",
      "id": "674b3b7c",
      "metadata": {
        "id": "674b3b7c"
      },
      "source": [
        "- Support Vector Machines (SVM)"
      ]
    },
    {
      "cell_type": "markdown",
      "id": "9cc966a8",
      "metadata": {
        "id": "9cc966a8"
      },
      "source": [
        "__Let's explore these algorithms through some of their common use cases:__"
      ]
    },
    {
      "cell_type": "markdown",
      "id": "3eaabcf6",
      "metadata": {
        "id": "3eaabcf6"
      },
      "source": [
        "### **1. Linear Regression**"
      ]
    },
    {
      "cell_type": "markdown",
      "id": "16c270c6",
      "metadata": {
        "id": "16c270c6"
      },
      "source": [
        "- **Use case:** Predicting housing prices"
      ]
    },
    {
      "cell_type": "markdown",
      "id": "6dd50cc4",
      "metadata": {
        "id": "6dd50cc4"
      },
      "source": [
        "- **Scenario:** A real estate company wants to estimate the market value of a house based on factors such as the number of bedrooms, square footage, location, and age of the property. Imagine you are using historical sales data to predict the price of a new house on the market."
      ]
    },
    {
      "cell_type": "markdown",
      "id": "a3f542ef",
      "metadata": {
        "id": "a3f542ef"
      },
      "source": [
        "### **2. Logistic Regression**"
      ]
    },
    {
      "cell_type": "markdown",
      "id": "d2bda73d",
      "metadata": {
        "id": "d2bda73d"
      },
      "source": [
        "- **Use case:** Customer purchase prediction"
      ]
    },
    {
      "cell_type": "markdown",
      "id": "24bf462c",
      "metadata": {
        "id": "24bf462c"
      },
      "source": [
        "- **Scenario:** An e-commerce company aims to predict whether a customer will purchase a product based on their browsing history, previous purchases, and demographic data. Think of it like predicting whether a window shopper will become a buyer based on their behavior."
      ]
    },
    {
      "cell_type": "markdown",
      "id": "c6432a74",
      "metadata": {
        "id": "c6432a74"
      },
      "source": [
        "### **3. Naïve Bayes**"
      ]
    },
    {
      "cell_type": "markdown",
      "id": "54dbf0f5",
      "metadata": {
        "id": "54dbf0f5"
      },
      "source": [
        "- **Use case:** Email spam detection"
      ]
    },
    {
      "cell_type": "markdown",
      "id": "1cdb1840",
      "metadata": {
        "id": "1cdb1840"
      },
      "source": [
        "- **Scenario:** An email service provider wants to filter out spam emails. They use Naïve Bayes to classify emails as spam or not spam based on the words and phrases used in the emails. It's like having a smart assistant who knows which emails are junk and which ones are important."
      ]
    },
    {
      "cell_type": "markdown",
      "id": "67878e0b",
      "metadata": {
        "id": "67878e0b"
      },
      "source": [
        "### **4. K-Nearest Neighbors (KNN)**"
      ]
    },
    {
      "cell_type": "markdown",
      "id": "162364a7",
      "metadata": {
        "id": "162364a7"
      },
      "source": [
        "- **Use case:** Healthcare"
      ]
    },
    {
      "cell_type": "markdown",
      "id": "a7c3d810",
      "metadata": {
        "id": "a7c3d810"
      },
      "source": [
        "- **Scenario:**\n",
        "KNN algorithm can be applied in healthcare sector for the early prediction of heart diseases to increase survival rate. By comparing a new patient's health indicators, like blood pressure and cholesterol, with historical data, kNN identifies patterns and predicts risks efficiently."
      ]
    },
    {
      "cell_type": "markdown",
      "id": "d00bc55f",
      "metadata": {
        "id": "d00bc55f"
      },
      "source": [
        "### **5. Decision Trees**"
      ]
    },
    {
      "cell_type": "markdown",
      "id": "5b842a0e",
      "metadata": {
        "id": "5b842a0e"
      },
      "source": [
        "- **Use case:** Rule based Decision making"
      ]
    },
    {
      "cell_type": "markdown",
      "id": "78de2c56",
      "metadata": {
        "id": "78de2c56"
      },
      "source": [
        "- **Scenario:** In urban planning, a Decision Tree analyzes data on population density, transport usage, and community feedback to optimize public transportation across neighborhoods. Decision Trees provide a more structured, rule-based approach to enhance transport services, improving efficiency and accessibility."
      ]
    },
    {
      "cell_type": "markdown",
      "id": "1213f9f1",
      "metadata": {
        "id": "1213f9f1"
      },
      "source": [
        "###**6. Random Forests**"
      ]
    },
    {
      "cell_type": "markdown",
      "id": "7e73b58c",
      "metadata": {
        "id": "7e73b58c"
      },
      "source": [
        "- **Use case:** Credit scoring"
      ]
    },
    {
      "cell_type": "markdown",
      "id": "80d9d101",
      "metadata": {
        "id": "80d9d101"
      },
      "source": [
        "- **Scenario:** A bank evaluates the creditworthiness of loan applicants by using Random Forests to analyze various factors like credit history, income, employment status, and other financial metrics. Think of it as a group of decision trees working together to give a more accurate prediction."
      ]
    },
    {
      "cell_type": "markdown",
      "id": "64c23118",
      "metadata": {
        "id": "64c23118"
      },
      "source": [
        "###**7. Support Vector Machines (SVM)**"
      ]
    },
    {
      "cell_type": "markdown",
      "id": "2abdd478",
      "metadata": {
        "id": "2abdd478"
      },
      "source": [
        "- **Use case:** Social media monitoring"
      ]
    },
    {
      "cell_type": "markdown",
      "id": "05db1f64",
      "metadata": {
        "id": "05db1f64"
      },
      "source": [
        "- **Scenario:**\n",
        "A marketing firm uses SVM to analyze binary customer sentiments on social media platforms, focusing on classifying comments as either positive or negative. This technique effectively gauges public perception, enabling precise targeting and brand management.\n",
        "\n",
        "\n",
        "\n",
        "\n",
        "\n",
        "\n"
      ]
    }
  ],
  "metadata": {
    "colab": {
      "provenance": []
    }
  },
  "nbformat": 4,
  "nbformat_minor": 5
}