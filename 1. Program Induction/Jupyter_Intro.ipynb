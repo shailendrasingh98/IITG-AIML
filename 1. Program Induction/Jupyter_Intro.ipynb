{
 "cells": [
  {
   "cell_type": "code",
   "execution_count": 2,
   "id": "c0fcc055",
   "metadata": {},
   "outputs": [],
   "source": [
    "#This is called a cell in Jupyter notebook. And by default, this cell is a code cell. ---> Code comments\n",
    "\n",
    "x = 3"
   ]
  },
  {
   "cell_type": "markdown",
   "id": "05b8ad59",
   "metadata": {},
   "source": [
    "This is a markdown cell wherein we can write all our notes.\n",
    "\n",
    "# Heading1\n",
    "\n",
    "## Heading2\n",
    "\n",
    "### Heading3"
   ]
  },
  {
   "cell_type": "markdown",
   "id": "f0bc402c",
   "metadata": {},
   "source": [
    "# Shortcuts in Jupyter Notebook\n",
    "\n",
    "- Shift + Enter --> Shortcut to run a cell in Jupyter.\n",
    "- Esc + m -->Shortcut to convert a code cell to a markdown cell.\n",
    "- Esc + y -->Shortcut to convert a markdown cell to a code cell.\n",
    "- Esc + a --> Shortcut to create a code cell above the existing cell.\n",
    "- Esc + b --> Shortcut to create a code cell below the existing cell.\n",
    "- Esc + dd --> Shortcut to delete a cell in Jupyter.\n",
    "- Esc + z --> Shortcut to Undo the previous action."
   ]
  },
  {
   "cell_type": "markdown",
   "id": "ed259c7e",
   "metadata": {},
   "source": [
    "# End of discussion"
   ]
  }
 ],
 "metadata": {
  "kernelspec": {
   "display_name": "Python [conda env:base] *",
   "language": "python",
   "name": "conda-base-py"
  },
  "language_info": {
   "codemirror_mode": {
    "name": "ipython",
    "version": 3
   },
   "file_extension": ".py",
   "mimetype": "text/x-python",
   "name": "python",
   "nbconvert_exporter": "python",
   "pygments_lexer": "ipython3",
   "version": "3.12.7"
  }
 },
 "nbformat": 4,
 "nbformat_minor": 5
}
